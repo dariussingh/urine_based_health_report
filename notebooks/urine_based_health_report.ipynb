{
 "cells": [
  {
   "cell_type": "markdown",
   "id": "8519d071",
   "metadata": {},
   "source": [
    "# Urine based health report"
   ]
  },
  {
   "cell_type": "markdown",
   "id": "63dc48b0",
   "metadata": {},
   "source": [
    "# Load data and dependencies"
   ]
  },
  {
   "cell_type": "code",
   "execution_count": 1,
   "id": "29d2c575",
   "metadata": {},
   "outputs": [],
   "source": [
    "import numpy as np\n",
    "import pandas as pd\n",
    "import plotly.express as px\n",
    "import plotly.graph_objects as go\n",
    "from plotly.subplots import make_subplots\n",
    "import matplotlib.pyplot as plt\n",
    "import matplotlib.patches as mpatches\n",
    "import matplotlib as mpl\n",
    "import pickle\n",
    "import datetime as dt\n",
    "from datetime import datetime, timedelta\n",
    "import statistics\n",
    "\n",
    "from sklearn.model_selection import train_test_split\n",
    "from sklearn.linear_model import LogisticRegression\n",
    "from sklearn.metrics import classification_report, confusion_matrix"
   ]
  },
  {
   "cell_type": "code",
   "execution_count": 73,
   "id": "93da43b0",
   "metadata": {},
   "outputs": [
    {
     "name": "stdout",
     "output_type": "stream",
     "text": [
      "(768, 9)\n"
     ]
    },
    {
     "data": {
      "text/html": [
       "<div>\n",
       "<style scoped>\n",
       "    .dataframe tbody tr th:only-of-type {\n",
       "        vertical-align: middle;\n",
       "    }\n",
       "\n",
       "    .dataframe tbody tr th {\n",
       "        vertical-align: top;\n",
       "    }\n",
       "\n",
       "    .dataframe thead th {\n",
       "        text-align: right;\n",
       "    }\n",
       "</style>\n",
       "<table border=\"1\" class=\"dataframe\">\n",
       "  <thead>\n",
       "    <tr style=\"text-align: right;\">\n",
       "      <th></th>\n",
       "      <th>Pregnancies</th>\n",
       "      <th>Glucose</th>\n",
       "      <th>BloodPressure</th>\n",
       "      <th>SkinThickness</th>\n",
       "      <th>Insulin</th>\n",
       "      <th>BMI</th>\n",
       "      <th>DiabetesPedigreeFunction</th>\n",
       "      <th>Age</th>\n",
       "      <th>Outcome</th>\n",
       "    </tr>\n",
       "  </thead>\n",
       "  <tbody>\n",
       "    <tr>\n",
       "      <th>0</th>\n",
       "      <td>6</td>\n",
       "      <td>148</td>\n",
       "      <td>72</td>\n",
       "      <td>35</td>\n",
       "      <td>0</td>\n",
       "      <td>33.6</td>\n",
       "      <td>0.627</td>\n",
       "      <td>50</td>\n",
       "      <td>1</td>\n",
       "    </tr>\n",
       "    <tr>\n",
       "      <th>1</th>\n",
       "      <td>1</td>\n",
       "      <td>85</td>\n",
       "      <td>66</td>\n",
       "      <td>29</td>\n",
       "      <td>0</td>\n",
       "      <td>26.6</td>\n",
       "      <td>0.351</td>\n",
       "      <td>31</td>\n",
       "      <td>0</td>\n",
       "    </tr>\n",
       "    <tr>\n",
       "      <th>2</th>\n",
       "      <td>8</td>\n",
       "      <td>183</td>\n",
       "      <td>64</td>\n",
       "      <td>0</td>\n",
       "      <td>0</td>\n",
       "      <td>23.3</td>\n",
       "      <td>0.672</td>\n",
       "      <td>32</td>\n",
       "      <td>1</td>\n",
       "    </tr>\n",
       "    <tr>\n",
       "      <th>3</th>\n",
       "      <td>1</td>\n",
       "      <td>89</td>\n",
       "      <td>66</td>\n",
       "      <td>23</td>\n",
       "      <td>94</td>\n",
       "      <td>28.1</td>\n",
       "      <td>0.167</td>\n",
       "      <td>21</td>\n",
       "      <td>0</td>\n",
       "    </tr>\n",
       "    <tr>\n",
       "      <th>4</th>\n",
       "      <td>0</td>\n",
       "      <td>137</td>\n",
       "      <td>40</td>\n",
       "      <td>35</td>\n",
       "      <td>168</td>\n",
       "      <td>43.1</td>\n",
       "      <td>2.288</td>\n",
       "      <td>33</td>\n",
       "      <td>1</td>\n",
       "    </tr>\n",
       "  </tbody>\n",
       "</table>\n",
       "</div>"
      ],
      "text/plain": [
       "   Pregnancies  Glucose  BloodPressure  SkinThickness  Insulin   BMI  \\\n",
       "0            6      148             72             35        0  33.6   \n",
       "1            1       85             66             29        0  26.6   \n",
       "2            8      183             64              0        0  23.3   \n",
       "3            1       89             66             23       94  28.1   \n",
       "4            0      137             40             35      168  43.1   \n",
       "\n",
       "   DiabetesPedigreeFunction  Age  Outcome  \n",
       "0                     0.627   50        1  \n",
       "1                     0.351   31        0  \n",
       "2                     0.672   32        1  \n",
       "3                     0.167   21        0  \n",
       "4                     2.288   33        1  "
      ]
     },
     "execution_count": 73,
     "metadata": {},
     "output_type": "execute_result"
    }
   ],
   "source": [
    "data = pd.read_csv('../data/diabetes.csv').copy()\n",
    "print(data.shape)\n",
    "data.head()"
   ]
  },
  {
   "cell_type": "markdown",
   "id": "c96a1375",
   "metadata": {},
   "source": [
    "## Model the probability of diabetes logistic regression model"
   ]
  },
  {
   "cell_type": "markdown",
   "id": "d6e63427",
   "metadata": {},
   "source": [
    "We focus only Age, BMI and Outcome as that is the only data that will be available to us."
   ]
  },
  {
   "cell_type": "code",
   "execution_count": 74,
   "id": "1d4a963b",
   "metadata": {},
   "outputs": [],
   "source": [
    "X = np.array(data[['Age', 'BMI']])\n",
    "y = np.array(data['Outcome'])\n",
    "\n",
    "X_train, X_test, y_train, y_test = train_test_split(X, y, test_size=0.2)"
   ]
  },
  {
   "cell_type": "code",
   "execution_count": 75,
   "id": "6ab5ae86",
   "metadata": {},
   "outputs": [],
   "source": [
    "model = LogisticRegression()\n",
    "model = model.fit(X_train, y_train)\n",
    "\n",
    "y_pred = model.predict(X_test)"
   ]
  },
  {
   "cell_type": "code",
   "execution_count": 76,
   "id": "38a786b3",
   "metadata": {},
   "outputs": [
    {
     "name": "stdout",
     "output_type": "stream",
     "text": [
      "              precision    recall  f1-score   support\n",
      "\n",
      "           0       0.75      0.80      0.77       113\n",
      "           1       0.32      0.27      0.29        41\n",
      "\n",
      "    accuracy                           0.66       154\n",
      "   macro avg       0.54      0.53      0.53       154\n",
      "weighted avg       0.64      0.66      0.64       154\n",
      "\n"
     ]
    }
   ],
   "source": [
    "print(classification_report(y_test, y_pred))"
   ]
  },
  {
   "cell_type": "code",
   "execution_count": 77,
   "id": "43cb6f87",
   "metadata": {},
   "outputs": [
    {
     "name": "stdout",
     "output_type": "stream",
     "text": [
      "[[90 23]\n",
      " [30 11]]\n"
     ]
    }
   ],
   "source": [
    "print(confusion_matrix(y_test, y_pred))"
   ]
  },
  {
   "cell_type": "code",
   "execution_count": 83,
   "id": "e621cc7f",
   "metadata": {},
   "outputs": [
    {
     "data": {
      "image/png": "[encoded data removed]",
      "text/plain": [
       "<Figure size 432x288 with 1 Axes>"
      ]
     },
     "metadata": {
      "needs_background": "light"
     },
     "output_type": "display_data"
    }
   ],
   "source": [
    "plt.figure(figsize=(6,4))\n",
    "plt.barh(['Age', 'BMI'],model.coef_[0])\n",
    "plt.title(\"Coefficient values\")\n",
    "plt.show()"
   ]
  },
  {
   "cell_type": "code",
   "execution_count": 84,
   "id": "1b19baae",
   "metadata": {},
   "outputs": [],
   "source": [
    "pickle.dump(model, open('../models/model.sav', 'wb'))"
   ]
  },
  {
   "cell_type": "code",
   "execution_count": 90,
   "id": "d051f889",
   "metadata": {},
   "outputs": [],
   "source": [
    "model = pickle.load(open('../models/model.sav', 'rb'))"
   ]
  },
  {
   "cell_type": "code",
   "execution_count": 27,
   "id": "b90e82bb",
   "metadata": {},
   "outputs": [],
   "source": [
    "def find_age(dob):\n",
    "    now = datetime.now()\n",
    "    delta = now - dob\n",
    "    seconds_in_year = 365.25*24*60*60\n",
    "    age = delta.total_seconds() // seconds_in_year\n",
    "    return age\n",
    "\n",
    "def BMI(height, weight):\n",
    "    bmi = weight/(height*height)\n",
    "    return bmi\n",
    "\n",
    "def diabetes_score(age, height, weight):\n",
    "    model = pickle.load(open('../models/model.sav', 'rb'))\n",
    "    \n",
    "    bmi = BMI(height, weight)\n",
    "    inp = np.array([age, bmi]).reshape(1, -1)\n",
    "    \n",
    "    out = model.predict_proba(inp)\n",
    "    out = out[0][1]    \n",
    "    return out"
   ]
  },
  {
   "cell_type": "code",
   "execution_count": 92,
   "id": "10c9d43e",
   "metadata": {},
   "outputs": [
    {
     "data": {
      "text/plain": [
       "0.6223973381897838"
      ]
     },
     "execution_count": 92,
     "metadata": {},
     "output_type": "execute_result"
    }
   ],
   "source": [
    "diabetes_score(57, 1.7, 90)"
   ]
  },
  {
   "cell_type": "markdown",
   "id": "55f0c464",
   "metadata": {},
   "source": [
    "## Urine color and pH based rule based model"
   ]
  },
  {
   "cell_type": "code",
   "execution_count": 6,
   "id": "76d7d89d",
   "metadata": {},
   "outputs": [],
   "source": [
    "urine_color_dict = {\n",
    "    'Clear':0,\n",
    "    'Pale Yellow':1,\n",
    "    'Yellow':2,\n",
    "    'Dark Yellow':3,\n",
    "    'Honey':4,\n",
    "    'Brown':5\n",
    "}\n",
    "\n",
    "def color_score(color):\n",
    "    score = urine_color_dict[color]\n",
    "    return score/5"
   ]
  },
  {
   "cell_type": "code",
   "execution_count": 104,
   "id": "768711d7",
   "metadata": {},
   "outputs": [
    {
     "data": {
      "text/plain": [
       "0.6"
      ]
     },
     "execution_count": 104,
     "metadata": {},
     "output_type": "execute_result"
    }
   ],
   "source": [
    "color_score('Dark Yellow')"
   ]
  },
  {
   "cell_type": "code",
   "execution_count": 127,
   "id": "85d1cf73",
   "metadata": {},
   "outputs": [],
   "source": [
    "def ph_score(ph):\n",
    "    if 4.5<ph<8:\n",
    "        score = abs(ph-7)\n",
    "        score = score/2.5\n",
    "    else:\n",
    "        score = 1\n",
    "    return score"
   ]
  },
  {
   "cell_type": "code",
   "execution_count": 137,
   "id": "ee9778c2",
   "metadata": {},
   "outputs": [
    {
     "data": {
      "text/plain": [
       "0.4"
      ]
     },
     "execution_count": 137,
     "metadata": {},
     "output_type": "execute_result"
    }
   ],
   "source": [
    "ph_score(6)"
   ]
  },
  {
   "cell_type": "markdown",
   "id": "83b952ff",
   "metadata": {},
   "source": [
    "## Risk Score\n",
    "\n",
    "$$P(Risk) = \\frac{P(Diabetes)+ColorScore+pHScore}{4}$$"
   ]
  },
  {
   "cell_type": "code",
   "execution_count": 170,
   "id": "4c94cb3b",
   "metadata": {},
   "outputs": [],
   "source": [
    "def risk_score(age, height, weight, urine_color, urine_ph):\n",
    "    diabetes =  diabetes_score(age, height, weight)\n",
    "    color = color_score(urine_color)\n",
    "    ph = ph_score(urine_ph)\n",
    "    \n",
    "    score = (diabetes + color + ph) / 3\n",
    "    return score"
   ]
  },
  {
   "cell_type": "code",
   "execution_count": 171,
   "id": "a3f5fc4b",
   "metadata": {},
   "outputs": [
    {
     "data": {
      "text/plain": [
       "0.6804864229465734"
      ]
     },
     "execution_count": 171,
     "metadata": {},
     "output_type": "execute_result"
    }
   ],
   "source": [
    "risk_score(67, 1.77, 95, 'Yellow', 4.7)"
   ]
  },
  {
   "cell_type": "code",
   "execution_count": 1,
   "id": "d7d10ddb",
   "metadata": {},
   "outputs": [],
   "source": [
    "def segment_risk_score(age):\n",
    "    if 0<=age<40:\n",
    "        score = 0.0976\n",
    "    elif 40<age<60:\n",
    "        score = 0.3847\n",
    "    else:\n",
    "        score = 0.725\n",
    "    return score"
   ]
  },
  {
   "cell_type": "markdown",
   "id": "68f5c105",
   "metadata": {},
   "source": [
    "## Gauge meters"
   ]
  },
  {
   "cell_type": "code",
   "execution_count": 217,
   "id": "2757d9d5",
   "metadata": {},
   "outputs": [],
   "source": [
    "def risk_gauge(risk, segment=False):\n",
    "    fig = go.Figure()\n",
    "\n",
    "    if segment:\n",
    "        title = 'Segment Lifestyle Risk'\n",
    "    else:\n",
    "        title = 'Lifestyle Risk'\n",
    "    \n",
    "    fig.add_trace(go.Indicator(\n",
    "        mode = 'gauge+number',\n",
    "        value = risk*100,\n",
    "        title = {'text':title},\n",
    "        gauge={'axis': {'range':[0,100]},\n",
    "               'bar':{'color':'#4D96FF', 'thickness':0.17},\n",
    "               'steps':[\n",
    "                    {'range':[0,33.33], 'color':'#6BCB77'},\n",
    "                    {'range':[33.33,66.66], 'color':'#FFD93D'},\n",
    "                    {'range':[66.66,100], 'color':'#FF6B6B'}\n",
    "              ]\n",
    "              }\n",
    "    ))\n",
    "    \n",
    "    return fig"
   ]
  },
  {
   "cell_type": "code",
   "execution_count": 218,
   "id": "675cc854",
   "metadata": {},
   "outputs": [
    {
     "data": {
      "application/vnd.plotly.v1+json": {
       "config": {
        "plotlyServerURL": "https://plot.ly"
       },
       "data": [
        {
         "gauge": {
          "axis": {
           "range": [
            0,
            100
           ]
          },
          "bar": {
           "color": "#4D96FF",
           "thickness": 0.17
          },
          "steps": [
           {
            "color": "#FF6B6B",
            "range": [
             0,
             33.33
            ]
           },
           {
            "color": "#FFD93D",
            "range": [
             33.33,
             66.66
            ]
           },
           {
            "color": "#6BCB77",
            "range": [
             66.66,
             100
            ]
           }
          ]
         },
         "mode": "gauge+number",
         "title": {
          "text": "Lifestyle Risk"
         },
         "type": "indicator",
         "value": 68.04864229465734
        }
       ],
       "layout": {
        "template": {
         "data": {
          "bar": [
           {
            "error_x": {
             "color": "#2a3f5f"
            },
            "error_y": {
             "color": "#2a3f5f"
            },
            "marker": {
             "line": {
              "color": "#E5ECF6",
              "width": 0.5
             },
             "pattern": {
              "fillmode": "overlay",
              "size": 10,
              "solidity": 0.2
             }
            },
            "type": "bar"
           }
          ],
          "barpolar": [
           {
            "marker": {
             "line": {
              "color": "#E5ECF6",
              "width": 0.5
             },
             "pattern": {
              "fillmode": "overlay",
              "size": 10,
              "solidity": 0.2
             }
            },
            "type": "barpolar"
           }
          ],
          "carpet": [
           {
            "aaxis": {
             "endlinecolor": "#2a3f5f",
             "gridcolor": "white",
             "linecolor": "white",
             "minorgridcolor": "white",
             "startlinecolor": "#2a3f5f"
            },
            "baxis": {
             "endlinecolor": "#2a3f5f",
             "gridcolor": "white",
             "linecolor": "white",
             "minorgridcolor": "white",
             "startlinecolor": "#2a3f5f"
            },
            "type": "carpet"
           }
          ],
          "choropleth": [
           {
            "colorbar": {
             "outlinewidth": 0,
             "ticks": ""
            },
            "type": "choropleth"
           }
          ],
          "contour": [
           {
            "colorbar": {
             "outlinewidth": 0,
             "ticks": ""
            },
            "colorscale": [
             [
              0,
              "#0d0887"
             ],
             [
              0.1111111111111111,
              "#46039f"
             ],
             [
              0.2222222222222222,
              "#7201a8"
             ],
             [
              0.3333333333333333,
              "#9c179e"
             ],
             [
              0.4444444444444444,
              "#bd3786"
             ],
             [
              0.5555555555555556,
              "#d8576b"
             ],
             [
              0.6666666666666666,
              "#ed7953"
             ],
             [
              0.7777777777777778,
              "#fb9f3a"
             ],
             [
              0.8888888888888888,
              "#fdca26"
             ],
             [
              1,
              "#f0f921"
             ]
            ],
            "type": "contour"
           }
          ],
          "contourcarpet": [
           {
            "colorbar": {
             "outlinewidth": 0,
             "ticks": ""
            },
            "type": "contourcarpet"
           }
          ],
          "heatmap": [
           {
            "colorbar": {
             "outlinewidth": 0,
             "ticks": ""
            },
            "colorscale": [
             [
              0,
              "#0d0887"
             ],
             [
              0.1111111111111111,
              "#46039f"
             ],
             [
              0.2222222222222222,
              "#7201a8"
             ],
             [
              0.3333333333333333,
              "#9c179e"
             ],
             [
              0.4444444444444444,
              "#bd3786"
             ],
             [
              0.5555555555555556,
              "#d8576b"
             ],
             [
              0.6666666666666666,
              "#ed7953"
             ],
             [
              0.7777777777777778,
              "#fb9f3a"
             ],
             [
              0.8888888888888888,
              "#fdca26"
             ],
             [
              1,
              "#f0f921"
             ]
            ],
            "type": "heatmap"
           }
          ],
          "heatmapgl": [
           {
            "colorbar": {
             "outlinewidth": 0,
             "ticks": ""
            },
            "colorscale": [
             [
              0,
              "#0d0887"
             ],
             [
              0.1111111111111111,
              "#46039f"
             ],
             [
              0.2222222222222222,
              "#7201a8"
             ],
             [
              0.3333333333333333,
              "#9c179e"
             ],
             [
              0.4444444444444444,
              "#bd3786"
             ],
             [
              0.5555555555555556,
              "#d8576b"
             ],
             [
              0.6666666666666666,
              "#ed7953"
             ],
             [
              0.7777777777777778,
              "#fb9f3a"
             ],
             [
              0.8888888888888888,
              "#fdca26"
             ],
             [
              1,
              "#f0f921"
             ]
            ],
            "type": "heatmapgl"
           }
          ],
          "histogram": [
           {
            "marker": {
             "pattern": {
              "fillmode": "overlay",
              "size": 10,
              "solidity": 0.2
             }
            },
            "type": "histogram"
           }
          ],
          "histogram2d": [
           {
            "colorbar": {
             "outlinewidth": 0,
             "ticks": ""
            },
            "colorscale": [
             [
              0,
              "#0d0887"
             ],
             [
              0.1111111111111111,
              "#46039f"
             ],
             [
              0.2222222222222222,
              "#7201a8"
             ],
             [
              0.3333333333333333,
              "#9c179e"
             ],
             [
              0.4444444444444444,
              "#bd3786"
             ],
             [
              0.5555555555555556,
              "#d8576b"
             ],
             [
              0.6666666666666666,
              "#ed7953"
             ],
             [
              0.7777777777777778,
              "#fb9f3a"
             ],
             [
              0.8888888888888888,
              "#fdca26"
             ],
             [
              1,
              "#f0f921"
             ]
            ],
            "type": "histogram2d"
           }
          ],
          "histogram2dcontour": [
           {
            "colorbar": {
             "outlinewidth": 0,
             "ticks": ""
            },
            "colorscale": [
             [
              0,
              "#0d0887"
             ],
             [
              0.1111111111111111,
              "#46039f"
             ],
             [
              0.2222222222222222,
              "#7201a8"
             ],
             [
              0.3333333333333333,
              "#9c179e"
             ],
             [
              0.4444444444444444,
              "#bd3786"
             ],
             [
              0.5555555555555556,
              "#d8576b"
             ],
             [
              0.6666666666666666,
              "#ed7953"
             ],
             [
              0.7777777777777778,
              "#fb9f3a"
             ],
             [
              0.8888888888888888,
              "#fdca26"
             ],
             [
              1,
              "#f0f921"
             ]
            ],
            "type": "histogram2dcontour"
           }
          ],
          "mesh3d": [
           {
            "colorbar": {
             "outlinewidth": 0,
             "ticks": ""
            },
            "type": "mesh3d"
           }
          ],
          "parcoords": [
           {
            "line": {
             "colorbar": {
              "outlinewidth": 0,
              "ticks": ""
             }
            },
            "type": "parcoords"
           }
          ],
          "pie": [
           {
            "automargin": true,
            "type": "pie"
           }
          ],
          "scatter": [
           {
            "marker": {
             "colorbar": {
              "outlinewidth": 0,
              "ticks": ""
             }
            },
            "type": "scatter"
           }
          ],
          "scatter3d": [
           {
            "line": {
             "colorbar": {
              "outlinewidth": 0,
              "ticks": ""
             }
            },
            "marker": {
             "colorbar": {
              "outlinewidth": 0,
              "ticks": ""
             }
            },
            "type": "scatter3d"
           }
          ],
          "scattercarpet": [
           {
            "marker": {
             "colorbar": {
              "outlinewidth": 0,
              "ticks": ""
             }
            },
            "type": "scattercarpet"
           }
          ],
          "scattergeo": [
           {
            "marker": {
             "colorbar": {
              "outlinewidth": 0,
              "ticks": ""
             }
            },
            "type": "scattergeo"
           }
          ],
          "scattergl": [
           {
            "marker": {
             "colorbar": {
              "outlinewidth": 0,
              "ticks": ""
             }
            },
            "type": "scattergl"
           }
          ],
          "scattermapbox": [
           {
            "marker": {
             "colorbar": {
              "outlinewidth": 0,
              "ticks": ""
             }
            },
            "type": "scattermapbox"
           }
          ],
          "scatterpolar": [
           {
            "marker": {
             "colorbar": {
              "outlinewidth": 0,
              "ticks": ""
             }
            },
            "type": "scatterpolar"
           }
          ],
          "scatterpolargl": [
           {
            "marker": {
             "colorbar": {
              "outlinewidth": 0,
              "ticks": ""
             }
            },
            "type": "scatterpolargl"
           }
          ],
          "scatterternary": [
           {
            "marker": {
             "colorbar": {
              "outlinewidth": 0,
              "ticks": ""
             }
            },
            "type": "scatterternary"
           }
          ],
          "surface": [
           {
            "colorbar": {
             "outlinewidth": 0,
             "ticks": ""
            },
            "colorscale": [
             [
              0,
              "#0d0887"
             ],
             [
              0.1111111111111111,
              "#46039f"
             ],
             [
              0.2222222222222222,
              "#7201a8"
             ],
             [
              0.3333333333333333,
              "#9c179e"
             ],
             [
              0.4444444444444444,
              "#bd3786"
             ],
             [
              0.5555555555555556,
              "#d8576b"
             ],
             [
              0.6666666666666666,
              "#ed7953"
             ],
             [
              0.7777777777777778,
              "#fb9f3a"
             ],
             [
              0.8888888888888888,
              "#fdca26"
             ],
             [
              1,
              "#f0f921"
             ]
            ],
            "type": "surface"
           }
          ],
          "table": [
           {
            "cells": {
             "fill": {
              "color": "#EBF0F8"
             },
             "line": {
              "color": "white"
             }
            },
            "header": {
             "fill": {
              "color": "#C8D4E3"
             },
             "line": {
              "color": "white"
             }
            },
            "type": "table"
           }
          ]
         },
         "layout": {
          "annotationdefaults": {
           "arrowcolor": "#2a3f5f",
           "arrowhead": 0,
           "arrowwidth": 1
          },
          "autotypenumbers": "strict",
          "coloraxis": {
           "colorbar": {
            "outlinewidth": 0,
            "ticks": ""
           }
          },
          "colorscale": {
           "diverging": [
            [
             0,
             "#8e0152"
            ],
            [
             0.1,
             "#c51b7d"
            ],
            [
             0.2,
             "#de77ae"
            ],
            [
             0.3,
             "#f1b6da"
            ],
            [
             0.4,
             "#fde0ef"
            ],
            [
             0.5,
             "#f7f7f7"
            ],
            [
             0.6,
             "#e6f5d0"
            ],
            [
             0.7,
             "#b8e186"
            ],
            [
             0.8,
             "#7fbc41"
            ],
            [
             0.9,
             "#4d9221"
            ],
            [
             1,
             "#276419"
            ]
           ],
           "sequential": [
            [
             0,
             "#0d0887"
            ],
            [
             0.1111111111111111,
             "#46039f"
            ],
            [
             0.2222222222222222,
             "#7201a8"
            ],
            [
             0.3333333333333333,
             "#9c179e"
            ],
            [
             0.4444444444444444,
             "#bd3786"
            ],
            [
             0.5555555555555556,
             "#d8576b"
            ],
            [
             0.6666666666666666,
             "#ed7953"
            ],
            [
             0.7777777777777778,
             "#fb9f3a"
            ],
            [
             0.8888888888888888,
             "#fdca26"
            ],
            [
             1,
             "#f0f921"
            ]
           ],
           "sequentialminus": [
            [
             0,
             "#0d0887"
            ],
            [
             0.1111111111111111,
             "#46039f"
            ],
            [
             0.2222222222222222,
             "#7201a8"
            ],
            [
             0.3333333333333333,
             "#9c179e"
            ],
            [
             0.4444444444444444,
             "#bd3786"
            ],
            [
             0.5555555555555556,
             "#d8576b"
            ],
            [
             0.6666666666666666,
             "#ed7953"
            ],
            [
             0.7777777777777778,
             "#fb9f3a"
            ],
            [
             0.8888888888888888,
             "#fdca26"
            ],
            [
             1,
             "#f0f921"
            ]
           ]
          },
          "colorway": [
           "#636efa",
           "#EF553B",
           "#00cc96",
           "#ab63fa",
           "#FFA15A",
           "#19d3f3",
           "#FF6692",
           "#B6E880",
           "#FF97FF",
           "#FECB52"
          ],
          "font": {
           "color": "#2a3f5f"
          },
          "geo": {
           "bgcolor": "white",
           "lakecolor": "white",
           "landcolor": "#E5ECF6",
           "showlakes": true,
           "showland": true,
           "subunitcolor": "white"
          },
          "hoverlabel": {
           "align": "left"
          },
          "hovermode": "closest",
          "mapbox": {
           "style": "light"
          },
          "paper_bgcolor": "white",
          "plot_bgcolor": "#E5ECF6",
          "polar": {
           "angularaxis": {
            "gridcolor": "white",
            "linecolor": "white",
            "ticks": ""
           },
           "bgcolor": "#E5ECF6",
           "radialaxis": {
            "gridcolor": "white",
            "linecolor": "white",
            "ticks": ""
           }
          },
          "scene": {
           "xaxis": {
            "backgroundcolor": "#E5ECF6",
            "gridcolor": "white",
            "gridwidth": 2,
            "linecolor": "white",
            "showbackground": true,
            "ticks": "",
            "zerolinecolor": "white"
           },
           "yaxis": {
            "backgroundcolor": "#E5ECF6",
            "gridcolor": "white",
            "gridwidth": 2,
            "linecolor": "white",
            "showbackground": true,
            "ticks": "",
            "zerolinecolor": "white"
           },
           "zaxis": {
            "backgroundcolor": "#E5ECF6",
            "gridcolor": "white",
            "gridwidth": 2,
            "linecolor": "white",
            "showbackground": true,
            "ticks": "",
            "zerolinecolor": "white"
           }
          },
          "shapedefaults": {
           "line": {
            "color": "#2a3f5f"
           }
          },
          "ternary": {
           "aaxis": {
            "gridcolor": "white",
            "linecolor": "white",
            "ticks": ""
           },
           "baxis": {
            "gridcolor": "white",
            "linecolor": "white",
            "ticks": ""
           },
           "bgcolor": "#E5ECF6",
           "caxis": {
            "gridcolor": "white",
            "linecolor": "white",
            "ticks": ""
           }
          },
          "title": {
           "x": 0.05
          },
          "xaxis": {
           "automargin": true,
           "gridcolor": "white",
           "linecolor": "white",
           "ticks": "",
           "title": {
            "standoff": 15
           },
           "zerolinecolor": "white",
           "zerolinewidth": 2
          },
          "yaxis": {
           "automargin": true,
           "gridcolor": "white",
           "linecolor": "white",
           "ticks": "",
           "title": {
            "standoff": 15
           },
           "zerolinecolor": "white",
           "zerolinewidth": 2
          }
         }
        }
       }
      },
      "text/html": [
       "<div>                            <div id=\"57a10823-6f8a-4c3c-bf9f-85934576f27c\" class=\"plotly-graph-div\" style=\"height:525px; width:100%;\"></div>            <script type=\"text/javascript\">                require([\"plotly\"], function(Plotly) {                    window.PLOTLYENV=window.PLOTLYENV || {};                                    if (document.getElementById(\"57a10823-6f8a-4c3c-bf9f-85934576f27c\")) {                    Plotly.newPlot(                        \"57a10823-6f8a-4c3c-bf9f-85934576f27c\",                        [{\"gauge\":{\"axis\":{\"range\":[0,100]},\"bar\":{\"color\":\"#4D96FF\",\"thickness\":0.17},\"steps\":[{\"color\":\"#FF6B6B\",\"range\":[0,33.33]},{\"color\":\"#FFD93D\",\"range\":[33.33,66.66]},{\"color\":\"#6BCB77\",\"range\":[66.66,100]}]},\"mode\":\"gauge+number\",\"title\":{\"text\":\"Lifestyle Risk\"},\"value\":68.04864229465734,\"type\":\"indicator\"}],                        {\"template\":{\"data\":{\"bar\":[{\"error_x\":{\"color\":\"#2a3f5f\"},\"error_y\":{\"color\":\"#2a3f5f\"},\"marker\":{\"line\":{\"color\":\"#E5ECF6\",\"width\":0.5},\"pattern\":{\"fillmode\":\"overlay\",\"size\":10,\"solidity\":0.2}},\"type\":\"bar\"}],\"barpolar\":[{\"marker\":{\"line\":{\"color\":\"#E5ECF6\",\"width\":0.5},\"pattern\":{\"fillmode\":\"overlay\",\"size\":10,\"solidity\":0.2}},\"type\":\"barpolar\"}],\"carpet\":[{\"aaxis\":{\"endlinecolor\":\"#2a3f5f\",\"gridcolor\":\"white\",\"linecolor\":\"white\",\"minorgridcolor\":\"white\",\"startlinecolor\":\"#2a3f5f\"},\"baxis\":{\"endlinecolor\":\"#2a3f5f\",\"gridcolor\":\"white\",\"linecolor\":\"white\",\"minorgridcolor\":\"white\",\"startlinecolor\":\"#2a3f5f\"},\"type\":\"carpet\"}],\"choropleth\":[{\"colorbar\":{\"outlinewidth\":0,\"ticks\":\"\"},\"type\":\"choropleth\"}],\"contour\":[{\"colorbar\":{\"outlinewidth\":0,\"ticks\":\"\"},\"colorscale\":[[0.0,\"#0d0887\"],[0.1111111111111111,\"#46039f\"],[0.2222222222222222,\"#7201a8\"],[0.3333333333333333,\"#9c179e\"],[0.4444444444444444,\"#bd3786\"],[0.5555555555555556,\"#d8576b\"],[0.6666666666666666,\"#ed7953\"],[0.7777777777777778,\"#fb9f3a\"],[0.8888888888888888,\"#fdca26\"],[1.0,\"#f0f921\"]],\"type\":\"contour\"}],\"contourcarpet\":[{\"colorbar\":{\"outlinewidth\":0,\"ticks\":\"\"},\"type\":\"contourcarpet\"}],\"heatmap\":[{\"colorbar\":{\"outlinewidth\":0,\"ticks\":\"\"},\"colorscale\":[[0.0,\"#0d0887\"],[0.1111111111111111,\"#46039f\"],[0.2222222222222222,\"#7201a8\"],[0.3333333333333333,\"#9c179e\"],[0.4444444444444444,\"#bd3786\"],[0.5555555555555556,\"#d8576b\"],[0.6666666666666666,\"#ed7953\"],[0.7777777777777778,\"#fb9f3a\"],[0.8888888888888888,\"#fdca26\"],[1.0,\"#f0f921\"]],\"type\":\"heatmap\"}],\"heatmapgl\":[{\"colorbar\":{\"outlinewidth\":0,\"ticks\":\"\"},\"colorscale\":[[0.0,\"#0d0887\"],[0.1111111111111111,\"#46039f\"],[0.2222222222222222,\"#7201a8\"],[0.3333333333333333,\"#9c179e\"],[0.4444444444444444,\"#bd3786\"],[0.5555555555555556,\"#d8576b\"],[0.6666666666666666,\"#ed7953\"],[0.7777777777777778,\"#fb9f3a\"],[0.8888888888888888,\"#fdca26\"],[1.0,\"#f0f921\"]],\"type\":\"heatmapgl\"}],\"histogram\":[{\"marker\":{\"pattern\":{\"fillmode\":\"overlay\",\"size\":10,\"solidity\":0.2}},\"type\":\"histogram\"}],\"histogram2d\":[{\"colorbar\":{\"outlinewidth\":0,\"ticks\":\"\"},\"colorscale\":[[0.0,\"#0d0887\"],[0.1111111111111111,\"#46039f\"],[0.2222222222222222,\"#7201a8\"],[0.3333333333333333,\"#9c179e\"],[0.4444444444444444,\"#bd3786\"],[0.5555555555555556,\"#d8576b\"],[0.6666666666666666,\"#ed7953\"],[0.7777777777777778,\"#fb9f3a\"],[0.8888888888888888,\"#fdca26\"],[1.0,\"#f0f921\"]],\"type\":\"histogram2d\"}],\"histogram2dcontour\":[{\"colorbar\":{\"outlinewidth\":0,\"ticks\":\"\"},\"colorscale\":[[0.0,\"#0d0887\"],[0.1111111111111111,\"#46039f\"],[0.2222222222222222,\"#7201a8\"],[0.3333333333333333,\"#9c179e\"],[0.4444444444444444,\"#bd3786\"],[0.5555555555555556,\"#d8576b\"],[0.6666666666666666,\"#ed7953\"],[0.7777777777777778,\"#fb9f3a\"],[0.8888888888888888,\"#fdca26\"],[1.0,\"#f0f921\"]],\"type\":\"histogram2dcontour\"}],\"mesh3d\":[{\"colorbar\":{\"outlinewidth\":0,\"ticks\":\"\"},\"type\":\"mesh3d\"}],\"parcoords\":[{\"line\":{\"colorbar\":{\"outlinewidth\":0,\"ticks\":\"\"}},\"type\":\"parcoords\"}],\"pie\":[{\"automargin\":true,\"type\":\"pie\"}],\"scatter\":[{\"marker\":{\"colorbar\":{\"outlinewidth\":0,\"ticks\":\"\"}},\"type\":\"scatter\"}],\"scatter3d\":[{\"line\":{\"colorbar\":{\"outlinewidth\":0,\"ticks\":\"\"}},\"marker\":{\"colorbar\":{\"outlinewidth\":0,\"ticks\":\"\"}},\"type\":\"scatter3d\"}],\"scattercarpet\":[{\"marker\":{\"colorbar\":{\"outlinewidth\":0,\"ticks\":\"\"}},\"type\":\"scattercarpet\"}],\"scattergeo\":[{\"marker\":{\"colorbar\":{\"outlinewidth\":0,\"ticks\":\"\"}},\"type\":\"scattergeo\"}],\"scattergl\":[{\"marker\":{\"colorbar\":{\"outlinewidth\":0,\"ticks\":\"\"}},\"type\":\"scattergl\"}],\"scattermapbox\":[{\"marker\":{\"colorbar\":{\"outlinewidth\":0,\"ticks\":\"\"}},\"type\":\"scattermapbox\"}],\"scatterpolar\":[{\"marker\":{\"colorbar\":{\"outlinewidth\":0,\"ticks\":\"\"}},\"type\":\"scatterpolar\"}],\"scatterpolargl\":[{\"marker\":{\"colorbar\":{\"outlinewidth\":0,\"ticks\":\"\"}},\"type\":\"scatterpolargl\"}],\"scatterternary\":[{\"marker\":{\"colorbar\":{\"outlinewidth\":0,\"ticks\":\"\"}},\"type\":\"scatterternary\"}],\"surface\":[{\"colorbar\":{\"outlinewidth\":0,\"ticks\":\"\"},\"colorscale\":[[0.0,\"#0d0887\"],[0.1111111111111111,\"#46039f\"],[0.2222222222222222,\"#7201a8\"],[0.3333333333333333,\"#9c179e\"],[0.4444444444444444,\"#bd3786\"],[0.5555555555555556,\"#d8576b\"],[0.6666666666666666,\"#ed7953\"],[0.7777777777777778,\"#fb9f3a\"],[0.8888888888888888,\"#fdca26\"],[1.0,\"#f0f921\"]],\"type\":\"surface\"}],\"table\":[{\"cells\":{\"fill\":{\"color\":\"#EBF0F8\"},\"line\":{\"color\":\"white\"}},\"header\":{\"fill\":{\"color\":\"#C8D4E3\"},\"line\":{\"color\":\"white\"}},\"type\":\"table\"}]},\"layout\":{\"annotationdefaults\":{\"arrowcolor\":\"#2a3f5f\",\"arrowhead\":0,\"arrowwidth\":1},\"autotypenumbers\":\"strict\",\"coloraxis\":{\"colorbar\":{\"outlinewidth\":0,\"ticks\":\"\"}},\"colorscale\":{\"diverging\":[[0,\"#8e0152\"],[0.1,\"#c51b7d\"],[0.2,\"#de77ae\"],[0.3,\"#f1b6da\"],[0.4,\"#fde0ef\"],[0.5,\"#f7f7f7\"],[0.6,\"#e6f5d0\"],[0.7,\"#b8e186\"],[0.8,\"#7fbc41\"],[0.9,\"#4d9221\"],[1,\"#276419\"]],\"sequential\":[[0.0,\"#0d0887\"],[0.1111111111111111,\"#46039f\"],[0.2222222222222222,\"#7201a8\"],[0.3333333333333333,\"#9c179e\"],[0.4444444444444444,\"#bd3786\"],[0.5555555555555556,\"#d8576b\"],[0.6666666666666666,\"#ed7953\"],[0.7777777777777778,\"#fb9f3a\"],[0.8888888888888888,\"#fdca26\"],[1.0,\"#f0f921\"]],\"sequentialminus\":[[0.0,\"#0d0887\"],[0.1111111111111111,\"#46039f\"],[0.2222222222222222,\"#7201a8\"],[0.3333333333333333,\"#9c179e\"],[0.4444444444444444,\"#bd3786\"],[0.5555555555555556,\"#d8576b\"],[0.6666666666666666,\"#ed7953\"],[0.7777777777777778,\"#fb9f3a\"],[0.8888888888888888,\"#fdca26\"],[1.0,\"#f0f921\"]]},\"colorway\":[\"#636efa\",\"#EF553B\",\"#00cc96\",\"#ab63fa\",\"#FFA15A\",\"#19d3f3\",\"#FF6692\",\"#B6E880\",\"#FF97FF\",\"#FECB52\"],\"font\":{\"color\":\"#2a3f5f\"},\"geo\":{\"bgcolor\":\"white\",\"lakecolor\":\"white\",\"landcolor\":\"#E5ECF6\",\"showlakes\":true,\"showland\":true,\"subunitcolor\":\"white\"},\"hoverlabel\":{\"align\":\"left\"},\"hovermode\":\"closest\",\"mapbox\":{\"style\":\"light\"},\"paper_bgcolor\":\"white\",\"plot_bgcolor\":\"#E5ECF6\",\"polar\":{\"angularaxis\":{\"gridcolor\":\"white\",\"linecolor\":\"white\",\"ticks\":\"\"},\"bgcolor\":\"#E5ECF6\",\"radialaxis\":{\"gridcolor\":\"white\",\"linecolor\":\"white\",\"ticks\":\"\"}},\"scene\":{\"xaxis\":{\"backgroundcolor\":\"#E5ECF6\",\"gridcolor\":\"white\",\"gridwidth\":2,\"linecolor\":\"white\",\"showbackground\":true,\"ticks\":\"\",\"zerolinecolor\":\"white\"},\"yaxis\":{\"backgroundcolor\":\"#E5ECF6\",\"gridcolor\":\"white\",\"gridwidth\":2,\"linecolor\":\"white\",\"showbackground\":true,\"ticks\":\"\",\"zerolinecolor\":\"white\"},\"zaxis\":{\"backgroundcolor\":\"#E5ECF6\",\"gridcolor\":\"white\",\"gridwidth\":2,\"linecolor\":\"white\",\"showbackground\":true,\"ticks\":\"\",\"zerolinecolor\":\"white\"}},\"shapedefaults\":{\"line\":{\"color\":\"#2a3f5f\"}},\"ternary\":{\"aaxis\":{\"gridcolor\":\"white\",\"linecolor\":\"white\",\"ticks\":\"\"},\"baxis\":{\"gridcolor\":\"white\",\"linecolor\":\"white\",\"ticks\":\"\"},\"bgcolor\":\"#E5ECF6\",\"caxis\":{\"gridcolor\":\"white\",\"linecolor\":\"white\",\"ticks\":\"\"}},\"title\":{\"x\":0.05},\"xaxis\":{\"automargin\":true,\"gridcolor\":\"white\",\"linecolor\":\"white\",\"ticks\":\"\",\"title\":{\"standoff\":15},\"zerolinecolor\":\"white\",\"zerolinewidth\":2},\"yaxis\":{\"automargin\":true,\"gridcolor\":\"white\",\"linecolor\":\"white\",\"ticks\":\"\",\"title\":{\"standoff\":15},\"zerolinecolor\":\"white\",\"zerolinewidth\":2}}}},                        {\"responsive\": true}                    ).then(function(){\n",
       "                            \n",
       "var gd = document.getElementById('57a10823-6f8a-4c3c-bf9f-85934576f27c');\n",
       "var x = new MutationObserver(function (mutations, observer) {{\n",
       "        var display = window.getComputedStyle(gd).display;\n",
       "        if (!display || display === 'none') {{\n",
       "            console.log([gd, 'removed!']);\n",
       "            Plotly.purge(gd);\n",
       "            observer.disconnect();\n",
       "        }}\n",
       "}});\n",
       "\n",
       "// Listen for the removal of the full notebook cells\n",
       "var notebookContainer = gd.closest('#notebook-container');\n",
       "if (notebookContainer) {{\n",
       "    x.observe(notebookContainer, {childList: true});\n",
       "}}\n",
       "\n",
       "// Listen for the clearing of the current output cell\n",
       "var outputEl = gd.closest('.output');\n",
       "if (outputEl) {{\n",
       "    x.observe(outputEl, {childList: true});\n",
       "}}\n",
       "\n",
       "                        })                };                });            </script>        </div>"
      ]
     },
     "metadata": {},
     "output_type": "display_data"
    }
   ],
   "source": [
    "fig = risk_gauge(risk_score(67, 1.77, 95, 'Yellow', 4.7))\n",
    "fig.show()"
   ]
  },
  {
   "cell_type": "markdown",
   "id": "584c52d2",
   "metadata": {},
   "source": [
    "## Water vs pH graph"
   ]
  },
  {
   "cell_type": "code",
   "execution_count": 362,
   "id": "250ae24e",
   "metadata": {},
   "outputs": [],
   "source": [
    "def water_ph_plot(time_list, ph_list, water_list):\n",
    "    fig = make_subplots(specs=[[{'secondary_y':True}]])\n",
    "    fig.update_layout(title='Water intake vs. Urine pH')\n",
    "\n",
    "\n",
    "    fig.add_trace(go.Bar(x=time_list, y=water_list, name='Glasses of water',\n",
    "                         marker={'color':'#1b95e0'}, text=water_list), secondary_y=True)\n",
    "    fig.add_trace(go.Scatter(x=time_list, y=ph_list, \n",
    "                             mode='lines+markers', name='Urine pH level',\n",
    "                             marker={'color':'#FFA500'}), secondary_y=False)\n",
    "    fig.add_trace(go.Scatter(x=time_list, y=[8 for i in range(10)], mode='lines',\n",
    "                            line={'dash':'dash', 'color':'blue'},\n",
    "                            name='Upper healthy pH limit (Alkaline)'))\n",
    "    fig.add_trace(go.Scatter(x=time_list, y=[4.5 for i in range(10)], mode='lines',\n",
    "                            line={'dash':'dash', 'color':'red'},\n",
    "                            name='Lower healthy pH limit (Acidic)'))\n",
    "\n",
    "\n",
    "    fig.update_yaxes(title_text='Urine pH level', range=[1,14], \n",
    "                     showgrid=True, secondary_y=False)\n",
    "    fig.update_yaxes(range=[0,5], \n",
    "                     showgrid=False, tickvals=[],\n",
    "                     secondary_y=True)\n",
    "    fig.update_xaxes(title_text='Time')\n",
    "\n",
    "    return fig"
   ]
  },
  {
   "cell_type": "code",
   "execution_count": 363,
   "id": "2312736c",
   "metadata": {
    "scrolled": true
   },
   "outputs": [
    {
     "data": {
      "application/vnd.plotly.v1+json": {
       "config": {
        "plotlyServerURL": "https://plot.ly"
       },
       "data": [
        {
         "marker": {
          "color": "#1b95e0"
         },
         "name": "Glasses of water",
         "text": [
          "2",
          "0",
          "0",
          "3",
          "0",
          "0",
          "0",
          "0",
          "0",
          "0"
         ],
         "type": "bar",
         "x": [
          "2022-08-10T14:41:29.695457",
          "2022-08-10T15:41:29.695457",
          "2022-08-10T16:41:29.695457",
          "2022-08-10T17:41:29.695457",
          "2022-08-10T18:41:29.695457",
          "2022-08-10T19:41:29.695457",
          "2022-08-10T20:41:29.695457",
          "2022-08-10T21:41:29.695457",
          "2022-08-10T22:41:29.695457",
          "2022-08-10T23:41:29.695457",
          "2022-08-11T00:41:29.695457",
          "2022-08-11T01:41:29.695457"
         ],
         "xaxis": "x",
         "y": [
          2,
          0,
          0,
          3,
          0,
          0,
          0,
          0,
          0,
          0
         ],
         "yaxis": "y2"
        },
        {
         "marker": {
          "color": "#FFA500"
         },
         "mode": "lines+markers",
         "name": "Urine pH level",
         "type": "scatter",
         "x": [
          "2022-08-10T14:41:29.695457",
          "2022-08-10T15:41:29.695457",
          "2022-08-10T16:41:29.695457",
          "2022-08-10T17:41:29.695457",
          "2022-08-10T18:41:29.695457",
          "2022-08-10T19:41:29.695457",
          "2022-08-10T20:41:29.695457",
          "2022-08-10T21:41:29.695457",
          "2022-08-10T22:41:29.695457",
          "2022-08-10T23:41:29.695457",
          "2022-08-11T00:41:29.695457",
          "2022-08-11T01:41:29.695457"
         ],
         "xaxis": "x",
         "y": [
          7,
          6.666666666666667,
          6.333333333333333,
          7,
          6.666666666666667,
          6.333333333333333,
          6,
          5.666666666666667,
          5.333333333333334,
          5
         ],
         "yaxis": "y"
        },
        {
         "line": {
          "color": "blue",
          "dash": "dash"
         },
         "mode": "lines",
         "name": "Upper healthy pH limit (Alkaline)",
         "type": "scatter",
         "x": [
          "2022-08-10T14:41:29.695457",
          "2022-08-10T15:41:29.695457",
          "2022-08-10T16:41:29.695457",
          "2022-08-10T17:41:29.695457",
          "2022-08-10T18:41:29.695457",
          "2022-08-10T19:41:29.695457",
          "2022-08-10T20:41:29.695457",
          "2022-08-10T21:41:29.695457",
          "2022-08-10T22:41:29.695457",
          "2022-08-10T23:41:29.695457",
          "2022-08-11T00:41:29.695457",
          "2022-08-11T01:41:29.695457"
         ],
         "y": [
          8,
          8,
          8,
          8,
          8,
          8,
          8,
          8,
          8,
          8
         ]
        },
        {
         "line": {
          "color": "red",
          "dash": "dash"
         },
         "mode": "lines",
         "name": "Lower healthy pH limit (Acidic)",
         "type": "scatter",
         "x": [
          "2022-08-10T14:41:29.695457",
          "2022-08-10T15:41:29.695457",
          "2022-08-10T16:41:29.695457",
          "2022-08-10T17:41:29.695457",
          "2022-08-10T18:41:29.695457",
          "2022-08-10T19:41:29.695457",
          "2022-08-10T20:41:29.695457",
          "2022-08-10T21:41:29.695457",
          "2022-08-10T22:41:29.695457",
          "2022-08-10T23:41:29.695457",
          "2022-08-11T00:41:29.695457",
          "2022-08-11T01:41:29.695457"
         ],
         "y": [
          4.5,
          4.5,
          4.5,
          4.5,
          4.5,
          4.5,
          4.5,
          4.5,
          4.5,
          4.5
         ]
        }
       ],
       "layout": {
        "template": {
         "data": {
          "bar": [
           {
            "error_x": {
             "color": "#2a3f5f"
            },
            "error_y": {
             "color": "#2a3f5f"
            },
            "marker": {
             "line": {
              "color": "#E5ECF6",
              "width": 0.5
             },
             "pattern": {
              "fillmode": "overlay",
              "size": 10,
              "solidity": 0.2
             }
            },
            "type": "bar"
           }
          ],
          "barpolar": [
           {
            "marker": {
             "line": {
              "color": "#E5ECF6",
              "width": 0.5
             },
             "pattern": {
              "fillmode": "overlay",
              "size": 10,
              "solidity": 0.2
             }
            },
            "type": "barpolar"
           }
          ],
          "carpet": [
           {
            "aaxis": {
             "endlinecolor": "#2a3f5f",
             "gridcolor": "white",
             "linecolor": "white",
             "minorgridcolor": "white",
             "startlinecolor": "#2a3f5f"
            },
            "baxis": {
             "endlinecolor": "#2a3f5f",
             "gridcolor": "white",
             "linecolor": "white",
             "minorgridcolor": "white",
             "startlinecolor": "#2a3f5f"
            },
            "type": "carpet"
           }
          ],
          "choropleth": [
           {
            "colorbar": {
             "outlinewidth": 0,
             "ticks": ""
            },
            "type": "choropleth"
           }
          ],
          "contour": [
           {
            "colorbar": {
             "outlinewidth": 0,
             "ticks": ""
            },
            "colorscale": [
             [
              0,
              "#0d0887"
             ],
             [
              0.1111111111111111,
              "#46039f"
             ],
             [
              0.2222222222222222,
              "#7201a8"
             ],
             [
              0.3333333333333333,
              "#9c179e"
             ],
             [
              0.4444444444444444,
              "#bd3786"
             ],
             [
              0.5555555555555556,
              "#d8576b"
             ],
             [
              0.6666666666666666,
              "#ed7953"
             ],
             [
              0.7777777777777778,
              "#fb9f3a"
             ],
             [
              0.8888888888888888,
              "#fdca26"
             ],
             [
              1,
              "#f0f921"
             ]
            ],
            "type": "contour"
           }
          ],
          "contourcarpet": [
           {
            "colorbar": {
             "outlinewidth": 0,
             "ticks": ""
            },
            "type": "contourcarpet"
           }
          ],
          "heatmap": [
           {
            "colorbar": {
             "outlinewidth": 0,
             "ticks": ""
            },
            "colorscale": [
             [
              0,
              "#0d0887"
             ],
             [
              0.1111111111111111,
              "#46039f"
             ],
             [
              0.2222222222222222,
              "#7201a8"
             ],
             [
              0.3333333333333333,
              "#9c179e"
             ],
             [
              0.4444444444444444,
              "#bd3786"
             ],
             [
              0.5555555555555556,
              "#d8576b"
             ],
             [
              0.6666666666666666,
              "#ed7953"
             ],
             [
              0.7777777777777778,
              "#fb9f3a"
             ],
             [
              0.8888888888888888,
              "#fdca26"
             ],
             [
              1,
              "#f0f921"
             ]
            ],
            "type": "heatmap"
           }
          ],
          "heatmapgl": [
           {
            "colorbar": {
             "outlinewidth": 0,
             "ticks": ""
            },
            "colorscale": [
             [
              0,
              "#0d0887"
             ],
             [
              0.1111111111111111,
              "#46039f"
             ],
             [
              0.2222222222222222,
              "#7201a8"
             ],
             [
              0.3333333333333333,
              "#9c179e"
             ],
             [
              0.4444444444444444,
              "#bd3786"
             ],
             [
              0.5555555555555556,
              "#d8576b"
             ],
             [
              0.6666666666666666,
              "#ed7953"
             ],
             [
              0.7777777777777778,
              "#fb9f3a"
             ],
             [
              0.8888888888888888,
              "#fdca26"
             ],
             [
              1,
              "#f0f921"
             ]
            ],
            "type": "heatmapgl"
           }
          ],
          "histogram": [
           {
            "marker": {
             "pattern": {
              "fillmode": "overlay",
              "size": 10,
              "solidity": 0.2
             }
            },
            "type": "histogram"
           }
          ],
          "histogram2d": [
           {
            "colorbar": {
             "outlinewidth": 0,
             "ticks": ""
            },
            "colorscale": [
             [
              0,
              "#0d0887"
             ],
             [
              0.1111111111111111,
              "#46039f"
             ],
             [
              0.2222222222222222,
              "#7201a8"
             ],
             [
              0.3333333333333333,
              "#9c179e"
             ],
             [
              0.4444444444444444,
              "#bd3786"
             ],
             [
              0.5555555555555556,
              "#d8576b"
             ],
             [
              0.6666666666666666,
              "#ed7953"
             ],
             [
              0.7777777777777778,
              "#fb9f3a"
             ],
             [
              0.8888888888888888,
              "#fdca26"
             ],
             [
              1,
              "#f0f921"
             ]
            ],
            "type": "histogram2d"
           }
          ],
          "histogram2dcontour": [
           {
            "colorbar": {
             "outlinewidth": 0,
             "ticks": ""
            },
            "colorscale": [
             [
              0,
              "#0d0887"
             ],
             [
              0.1111111111111111,
              "#46039f"
             ],
             [
              0.2222222222222222,
              "#7201a8"
             ],
             [
              0.3333333333333333,
              "#9c179e"
             ],
             [
              0.4444444444444444,
              "#bd3786"
             ],
             [
              0.5555555555555556,
              "#d8576b"
             ],
             [
              0.6666666666666666,
              "#ed7953"
             ],
             [
              0.7777777777777778,
              "#fb9f3a"
             ],
             [
              0.8888888888888888,
              "#fdca26"
             ],
             [
              1,
              "#f0f921"
             ]
            ],
            "type": "histogram2dcontour"
           }
          ],
          "mesh3d": [
           {
            "colorbar": {
             "outlinewidth": 0,
             "ticks": ""
            },
            "type": "mesh3d"
           }
          ],
          "parcoords": [
           {
            "line": {
             "colorbar": {
              "outlinewidth": 0,
              "ticks": ""
             }
            },
            "type": "parcoords"
           }
          ],
          "pie": [
           {
            "automargin": true,
            "type": "pie"
           }
          ],
          "scatter": [
           {
            "marker": {
             "colorbar": {
              "outlinewidth": 0,
              "ticks": ""
             }
            },
            "type": "scatter"
           }
          ],
          "scatter3d": [
           {
            "line": {
             "colorbar": {
              "outlinewidth": 0,
              "ticks": ""
             }
            },
            "marker": {
             "colorbar": {
              "outlinewidth": 0,
              "ticks": ""
             }
            },
            "type": "scatter3d"
           }
          ],
          "scattercarpet": [
           {
            "marker": {
             "colorbar": {
              "outlinewidth": 0,
              "ticks": ""
             }
            },
            "type": "scattercarpet"
           }
          ],
          "scattergeo": [
           {
            "marker": {
             "colorbar": {
              "outlinewidth": 0,
              "ticks": ""
             }
            },
            "type": "scattergeo"
           }
          ],
          "scattergl": [
           {
            "marker": {
             "colorbar": {
              "outlinewidth": 0,
              "ticks": ""
             }
            },
            "type": "scattergl"
           }
          ],
          "scattermapbox": [
           {
            "marker": {
             "colorbar": {
              "outlinewidth": 0,
              "ticks": ""
             }
            },
            "type": "scattermapbox"
           }
          ],
          "scatterpolar": [
           {
            "marker": {
             "colorbar": {
              "outlinewidth": 0,
              "ticks": ""
             }
            },
            "type": "scatterpolar"
           }
          ],
          "scatterpolargl": [
           {
            "marker": {
             "colorbar": {
              "outlinewidth": 0,
              "ticks": ""
             }
            },
            "type": "scatterpolargl"
           }
          ],
          "scatterternary": [
           {
            "marker": {
             "colorbar": {
              "outlinewidth": 0,
              "ticks": ""
             }
            },
            "type": "scatterternary"
           }
          ],
          "surface": [
           {
            "colorbar": {
             "outlinewidth": 0,
             "ticks": ""
            },
            "colorscale": [
             [
              0,
              "#0d0887"
             ],
             [
              0.1111111111111111,
              "#46039f"
             ],
             [
              0.2222222222222222,
              "#7201a8"
             ],
             [
              0.3333333333333333,
              "#9c179e"
             ],
             [
              0.4444444444444444,
              "#bd3786"
             ],
             [
              0.5555555555555556,
              "#d8576b"
             ],
             [
              0.6666666666666666,
              "#ed7953"
             ],
             [
              0.7777777777777778,
              "#fb9f3a"
             ],
             [
              0.8888888888888888,
              "#fdca26"
             ],
             [
              1,
              "#f0f921"
             ]
            ],
            "type": "surface"
           }
          ],
          "table": [
           {
            "cells": {
             "fill": {
              "color": "#EBF0F8"
             },
             "line": {
              "color": "white"
             }
            },
            "header": {
             "fill": {
              "color": "#C8D4E3"
             },
             "line": {
              "color": "white"
             }
            },
            "type": "table"
           }
          ]
         },
         "layout": {
          "annotationdefaults": {
           "arrowcolor": "#2a3f5f",
           "arrowhead": 0,
           "arrowwidth": 1
          },
          "autotypenumbers": "strict",
          "coloraxis": {
           "colorbar": {
            "outlinewidth": 0,
            "ticks": ""
           }
          },
          "colorscale": {
           "diverging": [
            [
             0,
             "#8e0152"
            ],
            [
             0.1,
             "#c51b7d"
            ],
            [
             0.2,
             "#de77ae"
            ],
            [
             0.3,
             "#f1b6da"
            ],
            [
             0.4,
             "#fde0ef"
            ],
            [
             0.5,
             "#f7f7f7"
            ],
            [
             0.6,
             "#e6f5d0"
            ],
            [
             0.7,
             "#b8e186"
            ],
            [
             0.8,
             "#7fbc41"
            ],
            [
             0.9,
             "#4d9221"
            ],
            [
             1,
             "#276419"
            ]
           ],
           "sequential": [
            [
             0,
             "#0d0887"
            ],
            [
             0.1111111111111111,
             "#46039f"
            ],
            [
             0.2222222222222222,
             "#7201a8"
            ],
            [
             0.3333333333333333,
             "#9c179e"
            ],
            [
             0.4444444444444444,
             "#bd3786"
            ],
            [
             0.5555555555555556,
             "#d8576b"
            ],
            [
             0.6666666666666666,
             "#ed7953"
            ],
            [
             0.7777777777777778,
             "#fb9f3a"
            ],
            [
             0.8888888888888888,
             "#fdca26"
            ],
            [
             1,
             "#f0f921"
            ]
           ],
           "sequentialminus": [
            [
             0,
             "#0d0887"
            ],
            [
             0.1111111111111111,
             "#46039f"
            ],
            [
             0.2222222222222222,
             "#7201a8"
            ],
            [
             0.3333333333333333,
             "#9c179e"
            ],
            [
             0.4444444444444444,
             "#bd3786"
            ],
            [
             0.5555555555555556,
             "#d8576b"
            ],
            [
             0.6666666666666666,
             "#ed7953"
            ],
            [
             0.7777777777777778,
             "#fb9f3a"
            ],
            [
             0.8888888888888888,
             "#fdca26"
            ],
            [
             1,
             "#f0f921"
            ]
           ]
          },
          "colorway": [
           "#636efa",
           "#EF553B",
           "#00cc96",
           "#ab63fa",
           "#FFA15A",
           "#19d3f3",
           "#FF6692",
           "#B6E880",
           "#FF97FF",
           "#FECB52"
          ],
          "font": {
           "color": "#2a3f5f"
          },
          "geo": {
           "bgcolor": "white",
           "lakecolor": "white",
           "landcolor": "#E5ECF6",
           "showlakes": true,
           "showland": true,
           "subunitcolor": "white"
          },
          "hoverlabel": {
           "align": "left"
          },
          "hovermode": "closest",
          "mapbox": {
           "style": "light"
          },
          "paper_bgcolor": "white",
          "plot_bgcolor": "#E5ECF6",
          "polar": {
           "angularaxis": {
            "gridcolor": "white",
            "linecolor": "white",
            "ticks": ""
           },
           "bgcolor": "#E5ECF6",
           "radialaxis": {
            "gridcolor": "white",
            "linecolor": "white",
            "ticks": ""
           }
          },
          "scene": {
           "xaxis": {
            "backgroundcolor": "#E5ECF6",
            "gridcolor": "white",
            "gridwidth": 2,
            "linecolor": "white",
            "showbackground": true,
            "ticks": "",
            "zerolinecolor": "white"
           },
           "yaxis": {
            "backgroundcolor": "#E5ECF6",
            "gridcolor": "white",
            "gridwidth": 2,
            "linecolor": "white",
            "showbackground": true,
            "ticks": "",
            "zerolinecolor": "white"
           },
           "zaxis": {
            "backgroundcolor": "#E5ECF6",
            "gridcolor": "white",
            "gridwidth": 2,
            "linecolor": "white",
            "showbackground": true,
            "ticks": "",
            "zerolinecolor": "white"
           }
          },
          "shapedefaults": {
           "line": {
            "color": "#2a3f5f"
           }
          },
          "ternary": {
           "aaxis": {
            "gridcolor": "white",
            "linecolor": "white",
            "ticks": ""
           },
           "baxis": {
            "gridcolor": "white",
            "linecolor": "white",
            "ticks": ""
           },
           "bgcolor": "#E5ECF6",
           "caxis": {
            "gridcolor": "white",
            "linecolor": "white",
            "ticks": ""
           }
          },
          "title": {
           "x": 0.05
          },
          "xaxis": {
           "automargin": true,
           "gridcolor": "white",
           "linecolor": "white",
           "ticks": "",
           "title": {
            "standoff": 15
           },
           "zerolinecolor": "white",
           "zerolinewidth": 2
          },
          "yaxis": {
           "automargin": true,
           "gridcolor": "white",
           "linecolor": "white",
           "ticks": "",
           "title": {
            "standoff": 15
           },
           "zerolinecolor": "white",
           "zerolinewidth": 2
          }
         }
        },
        "title": {
         "text": "Water intake vs. Urine pH"
        },
        "xaxis": {
         "anchor": "y",
         "domain": [
          0,
          0.94
         ],
         "title": {
          "text": "Time"
         }
        },
        "yaxis": {
         "anchor": "x",
         "domain": [
          0,
          1
         ],
         "range": [
          1,
          14
         ],
         "showgrid": true,
         "title": {
          "text": "Urine pH level"
         }
        },
        "yaxis2": {
         "anchor": "x",
         "overlaying": "y",
         "range": [
          0,
          5
         ],
         "showgrid": false,
         "side": "right",
         "tickvals": []
        }
       }
      },
      "text/html": [
       "<div>                            <div id=\"c89970b4-e508-4ad7-8a13-d729a2c3032a\" class=\"plotly-graph-div\" style=\"height:525px; width:100%;\"></div>            <script type=\"text/javascript\">                require([\"plotly\"], function(Plotly) {                    window.PLOTLYENV=window.PLOTLYENV || {};                                    if (document.getElementById(\"c89970b4-e508-4ad7-8a13-d729a2c3032a\")) {                    Plotly.newPlot(                        \"c89970b4-e508-4ad7-8a13-d729a2c3032a\",                        [{\"marker\":{\"color\":\"#1b95e0\"},\"name\":\"Glasses of water\",\"text\":[\"2\",\"0\",\"0\",\"3\",\"0\",\"0\",\"0\",\"0\",\"0\",\"0\"],\"x\":[\"2022-08-10T14:41:29.695457\",\"2022-08-10T15:41:29.695457\",\"2022-08-10T16:41:29.695457\",\"2022-08-10T17:41:29.695457\",\"2022-08-10T18:41:29.695457\",\"2022-08-10T19:41:29.695457\",\"2022-08-10T20:41:29.695457\",\"2022-08-10T21:41:29.695457\",\"2022-08-10T22:41:29.695457\",\"2022-08-10T23:41:29.695457\",\"2022-08-11T00:41:29.695457\",\"2022-08-11T01:41:29.695457\"],\"y\":[2,0,0,3,0,0,0,0,0,0],\"type\":\"bar\",\"xaxis\":\"x\",\"yaxis\":\"y2\"},{\"marker\":{\"color\":\"#FFA500\"},\"mode\":\"lines+markers\",\"name\":\"Urine pH level\",\"x\":[\"2022-08-10T14:41:29.695457\",\"2022-08-10T15:41:29.695457\",\"2022-08-10T16:41:29.695457\",\"2022-08-10T17:41:29.695457\",\"2022-08-10T18:41:29.695457\",\"2022-08-10T19:41:29.695457\",\"2022-08-10T20:41:29.695457\",\"2022-08-10T21:41:29.695457\",\"2022-08-10T22:41:29.695457\",\"2022-08-10T23:41:29.695457\",\"2022-08-11T00:41:29.695457\",\"2022-08-11T01:41:29.695457\"],\"y\":[7.0,6.666666666666667,6.333333333333333,7.0,6.666666666666667,6.333333333333333,6.0,5.666666666666667,5.333333333333334,5.0],\"type\":\"scatter\",\"xaxis\":\"x\",\"yaxis\":\"y\"},{\"line\":{\"color\":\"blue\",\"dash\":\"dash\"},\"mode\":\"lines\",\"name\":\"Upper healthy pH limit (Alkaline)\",\"x\":[\"2022-08-10T14:41:29.695457\",\"2022-08-10T15:41:29.695457\",\"2022-08-10T16:41:29.695457\",\"2022-08-10T17:41:29.695457\",\"2022-08-10T18:41:29.695457\",\"2022-08-10T19:41:29.695457\",\"2022-08-10T20:41:29.695457\",\"2022-08-10T21:41:29.695457\",\"2022-08-10T22:41:29.695457\",\"2022-08-10T23:41:29.695457\",\"2022-08-11T00:41:29.695457\",\"2022-08-11T01:41:29.695457\"],\"y\":[8,8,8,8,8,8,8,8,8,8],\"type\":\"scatter\"},{\"line\":{\"color\":\"red\",\"dash\":\"dash\"},\"mode\":\"lines\",\"name\":\"Lower healthy pH limit (Acidic)\",\"x\":[\"2022-08-10T14:41:29.695457\",\"2022-08-10T15:41:29.695457\",\"2022-08-10T16:41:29.695457\",\"2022-08-10T17:41:29.695457\",\"2022-08-10T18:41:29.695457\",\"2022-08-10T19:41:29.695457\",\"2022-08-10T20:41:29.695457\",\"2022-08-10T21:41:29.695457\",\"2022-08-10T22:41:29.695457\",\"2022-08-10T23:41:29.695457\",\"2022-08-11T00:41:29.695457\",\"2022-08-11T01:41:29.695457\"],\"y\":[4.5,4.5,4.5,4.5,4.5,4.5,4.5,4.5,4.5,4.5],\"type\":\"scatter\"}],                        {\"template\":{\"data\":{\"bar\":[{\"error_x\":{\"color\":\"#2a3f5f\"},\"error_y\":{\"color\":\"#2a3f5f\"},\"marker\":{\"line\":{\"color\":\"#E5ECF6\",\"width\":0.5},\"pattern\":{\"fillmode\":\"overlay\",\"size\":10,\"solidity\":0.2}},\"type\":\"bar\"}],\"barpolar\":[{\"marker\":{\"line\":{\"color\":\"#E5ECF6\",\"width\":0.5},\"pattern\":{\"fillmode\":\"overlay\",\"size\":10,\"solidity\":0.2}},\"type\":\"barpolar\"}],\"carpet\":[{\"aaxis\":{\"endlinecolor\":\"#2a3f5f\",\"gridcolor\":\"white\",\"linecolor\":\"white\",\"minorgridcolor\":\"white\",\"startlinecolor\":\"#2a3f5f\"},\"baxis\":{\"endlinecolor\":\"#2a3f5f\",\"gridcolor\":\"white\",\"linecolor\":\"white\",\"minorgridcolor\":\"white\",\"startlinecolor\":\"#2a3f5f\"},\"type\":\"carpet\"}],\"choropleth\":[{\"colorbar\":{\"outlinewidth\":0,\"ticks\":\"\"},\"type\":\"choropleth\"}],\"contour\":[{\"colorbar\":{\"outlinewidth\":0,\"ticks\":\"\"},\"colorscale\":[[0.0,\"#0d0887\"],[0.1111111111111111,\"#46039f\"],[0.2222222222222222,\"#7201a8\"],[0.3333333333333333,\"#9c179e\"],[0.4444444444444444,\"#bd3786\"],[0.5555555555555556,\"#d8576b\"],[0.6666666666666666,\"#ed7953\"],[0.7777777777777778,\"#fb9f3a\"],[0.8888888888888888,\"#fdca26\"],[1.0,\"#f0f921\"]],\"type\":\"contour\"}],\"contourcarpet\":[{\"colorbar\":{\"outlinewidth\":0,\"ticks\":\"\"},\"type\":\"contourcarpet\"}],\"heatmap\":[{\"colorbar\":{\"outlinewidth\":0,\"ticks\":\"\"},\"colorscale\":[[0.0,\"#0d0887\"],[0.1111111111111111,\"#46039f\"],[0.2222222222222222,\"#7201a8\"],[0.3333333333333333,\"#9c179e\"],[0.4444444444444444,\"#bd3786\"],[0.5555555555555556,\"#d8576b\"],[0.6666666666666666,\"#ed7953\"],[0.7777777777777778,\"#fb9f3a\"],[0.8888888888888888,\"#fdca26\"],[1.0,\"#f0f921\"]],\"type\":\"heatmap\"}],\"heatmapgl\":[{\"colorbar\":{\"outlinewidth\":0,\"ticks\":\"\"},\"colorscale\":[[0.0,\"#0d0887\"],[0.1111111111111111,\"#46039f\"],[0.2222222222222222,\"#7201a8\"],[0.3333333333333333,\"#9c179e\"],[0.4444444444444444,\"#bd3786\"],[0.5555555555555556,\"#d8576b\"],[0.6666666666666666,\"#ed7953\"],[0.7777777777777778,\"#fb9f3a\"],[0.8888888888888888,\"#fdca26\"],[1.0,\"#f0f921\"]],\"type\":\"heatmapgl\"}],\"histogram\":[{\"marker\":{\"pattern\":{\"fillmode\":\"overlay\",\"size\":10,\"solidity\":0.2}},\"type\":\"histogram\"}],\"histogram2d\":[{\"colorbar\":{\"outlinewidth\":0,\"ticks\":\"\"},\"colorscale\":[[0.0,\"#0d0887\"],[0.1111111111111111,\"#46039f\"],[0.2222222222222222,\"#7201a8\"],[0.3333333333333333,\"#9c179e\"],[0.4444444444444444,\"#bd3786\"],[0.5555555555555556,\"#d8576b\"],[0.6666666666666666,\"#ed7953\"],[0.7777777777777778,\"#fb9f3a\"],[0.8888888888888888,\"#fdca26\"],[1.0,\"#f0f921\"]],\"type\":\"histogram2d\"}],\"histogram2dcontour\":[{\"colorbar\":{\"outlinewidth\":0,\"ticks\":\"\"},\"colorscale\":[[0.0,\"#0d0887\"],[0.1111111111111111,\"#46039f\"],[0.2222222222222222,\"#7201a8\"],[0.3333333333333333,\"#9c179e\"],[0.4444444444444444,\"#bd3786\"],[0.5555555555555556,\"#d8576b\"],[0.6666666666666666,\"#ed7953\"],[0.7777777777777778,\"#fb9f3a\"],[0.8888888888888888,\"#fdca26\"],[1.0,\"#f0f921\"]],\"type\":\"histogram2dcontour\"}],\"mesh3d\":[{\"colorbar\":{\"outlinewidth\":0,\"ticks\":\"\"},\"type\":\"mesh3d\"}],\"parcoords\":[{\"line\":{\"colorbar\":{\"outlinewidth\":0,\"ticks\":\"\"}},\"type\":\"parcoords\"}],\"pie\":[{\"automargin\":true,\"type\":\"pie\"}],\"scatter\":[{\"marker\":{\"colorbar\":{\"outlinewidth\":0,\"ticks\":\"\"}},\"type\":\"scatter\"}],\"scatter3d\":[{\"line\":{\"colorbar\":{\"outlinewidth\":0,\"ticks\":\"\"}},\"marker\":{\"colorbar\":{\"outlinewidth\":0,\"ticks\":\"\"}},\"type\":\"scatter3d\"}],\"scattercarpet\":[{\"marker\":{\"colorbar\":{\"outlinewidth\":0,\"ticks\":\"\"}},\"type\":\"scattercarpet\"}],\"scattergeo\":[{\"marker\":{\"colorbar\":{\"outlinewidth\":0,\"ticks\":\"\"}},\"type\":\"scattergeo\"}],\"scattergl\":[{\"marker\":{\"colorbar\":{\"outlinewidth\":0,\"ticks\":\"\"}},\"type\":\"scattergl\"}],\"scattermapbox\":[{\"marker\":{\"colorbar\":{\"outlinewidth\":0,\"ticks\":\"\"}},\"type\":\"scattermapbox\"}],\"scatterpolar\":[{\"marker\":{\"colorbar\":{\"outlinewidth\":0,\"ticks\":\"\"}},\"type\":\"scatterpolar\"}],\"scatterpolargl\":[{\"marker\":{\"colorbar\":{\"outlinewidth\":0,\"ticks\":\"\"}},\"type\":\"scatterpolargl\"}],\"scatterternary\":[{\"marker\":{\"colorbar\":{\"outlinewidth\":0,\"ticks\":\"\"}},\"type\":\"scatterternary\"}],\"surface\":[{\"colorbar\":{\"outlinewidth\":0,\"ticks\":\"\"},\"colorscale\":[[0.0,\"#0d0887\"],[0.1111111111111111,\"#46039f\"],[0.2222222222222222,\"#7201a8\"],[0.3333333333333333,\"#9c179e\"],[0.4444444444444444,\"#bd3786\"],[0.5555555555555556,\"#d8576b\"],[0.6666666666666666,\"#ed7953\"],[0.7777777777777778,\"#fb9f3a\"],[0.8888888888888888,\"#fdca26\"],[1.0,\"#f0f921\"]],\"type\":\"surface\"}],\"table\":[{\"cells\":{\"fill\":{\"color\":\"#EBF0F8\"},\"line\":{\"color\":\"white\"}},\"header\":{\"fill\":{\"color\":\"#C8D4E3\"},\"line\":{\"color\":\"white\"}},\"type\":\"table\"}]},\"layout\":{\"annotationdefaults\":{\"arrowcolor\":\"#2a3f5f\",\"arrowhead\":0,\"arrowwidth\":1},\"autotypenumbers\":\"strict\",\"coloraxis\":{\"colorbar\":{\"outlinewidth\":0,\"ticks\":\"\"}},\"colorscale\":{\"diverging\":[[0,\"#8e0152\"],[0.1,\"#c51b7d\"],[0.2,\"#de77ae\"],[0.3,\"#f1b6da\"],[0.4,\"#fde0ef\"],[0.5,\"#f7f7f7\"],[0.6,\"#e6f5d0\"],[0.7,\"#b8e186\"],[0.8,\"#7fbc41\"],[0.9,\"#4d9221\"],[1,\"#276419\"]],\"sequential\":[[0.0,\"#0d0887\"],[0.1111111111111111,\"#46039f\"],[0.2222222222222222,\"#7201a8\"],[0.3333333333333333,\"#9c179e\"],[0.4444444444444444,\"#bd3786\"],[0.5555555555555556,\"#d8576b\"],[0.6666666666666666,\"#ed7953\"],[0.7777777777777778,\"#fb9f3a\"],[0.8888888888888888,\"#fdca26\"],[1.0,\"#f0f921\"]],\"sequentialminus\":[[0.0,\"#0d0887\"],[0.1111111111111111,\"#46039f\"],[0.2222222222222222,\"#7201a8\"],[0.3333333333333333,\"#9c179e\"],[0.4444444444444444,\"#bd3786\"],[0.5555555555555556,\"#d8576b\"],[0.6666666666666666,\"#ed7953\"],[0.7777777777777778,\"#fb9f3a\"],[0.8888888888888888,\"#fdca26\"],[1.0,\"#f0f921\"]]},\"colorway\":[\"#636efa\",\"#EF553B\",\"#00cc96\",\"#ab63fa\",\"#FFA15A\",\"#19d3f3\",\"#FF6692\",\"#B6E880\",\"#FF97FF\",\"#FECB52\"],\"font\":{\"color\":\"#2a3f5f\"},\"geo\":{\"bgcolor\":\"white\",\"lakecolor\":\"white\",\"landcolor\":\"#E5ECF6\",\"showlakes\":true,\"showland\":true,\"subunitcolor\":\"white\"},\"hoverlabel\":{\"align\":\"left\"},\"hovermode\":\"closest\",\"mapbox\":{\"style\":\"light\"},\"paper_bgcolor\":\"white\",\"plot_bgcolor\":\"#E5ECF6\",\"polar\":{\"angularaxis\":{\"gridcolor\":\"white\",\"linecolor\":\"white\",\"ticks\":\"\"},\"bgcolor\":\"#E5ECF6\",\"radialaxis\":{\"gridcolor\":\"white\",\"linecolor\":\"white\",\"ticks\":\"\"}},\"scene\":{\"xaxis\":{\"backgroundcolor\":\"#E5ECF6\",\"gridcolor\":\"white\",\"gridwidth\":2,\"linecolor\":\"white\",\"showbackground\":true,\"ticks\":\"\",\"zerolinecolor\":\"white\"},\"yaxis\":{\"backgroundcolor\":\"#E5ECF6\",\"gridcolor\":\"white\",\"gridwidth\":2,\"linecolor\":\"white\",\"showbackground\":true,\"ticks\":\"\",\"zerolinecolor\":\"white\"},\"zaxis\":{\"backgroundcolor\":\"#E5ECF6\",\"gridcolor\":\"white\",\"gridwidth\":2,\"linecolor\":\"white\",\"showbackground\":true,\"ticks\":\"\",\"zerolinecolor\":\"white\"}},\"shapedefaults\":{\"line\":{\"color\":\"#2a3f5f\"}},\"ternary\":{\"aaxis\":{\"gridcolor\":\"white\",\"linecolor\":\"white\",\"ticks\":\"\"},\"baxis\":{\"gridcolor\":\"white\",\"linecolor\":\"white\",\"ticks\":\"\"},\"bgcolor\":\"#E5ECF6\",\"caxis\":{\"gridcolor\":\"white\",\"linecolor\":\"white\",\"ticks\":\"\"}},\"title\":{\"x\":0.05},\"xaxis\":{\"automargin\":true,\"gridcolor\":\"white\",\"linecolor\":\"white\",\"ticks\":\"\",\"title\":{\"standoff\":15},\"zerolinecolor\":\"white\",\"zerolinewidth\":2},\"yaxis\":{\"automargin\":true,\"gridcolor\":\"white\",\"linecolor\":\"white\",\"ticks\":\"\",\"title\":{\"standoff\":15},\"zerolinecolor\":\"white\",\"zerolinewidth\":2}}},\"xaxis\":{\"anchor\":\"y\",\"domain\":[0.0,0.94],\"title\":{\"text\":\"Time\"}},\"yaxis\":{\"anchor\":\"x\",\"domain\":[0.0,1.0],\"title\":{\"text\":\"Urine pH level\"},\"range\":[1,14],\"showgrid\":true},\"yaxis2\":{\"anchor\":\"x\",\"overlaying\":\"y\",\"side\":\"right\",\"range\":[0,5],\"showgrid\":false,\"tickvals\":[]},\"title\":{\"text\":\"Water intake vs. Urine pH\"}},                        {\"responsive\": true}                    ).then(function(){\n",
       "                            \n",
       "var gd = document.getElementById('c89970b4-e508-4ad7-8a13-d729a2c3032a');\n",
       "var x = new MutationObserver(function (mutations, observer) {{\n",
       "        var display = window.getComputedStyle(gd).display;\n",
       "        if (!display || display === 'none') {{\n",
       "            console.log([gd, 'removed!']);\n",
       "            Plotly.purge(gd);\n",
       "            observer.disconnect();\n",
       "        }}\n",
       "}});\n",
       "\n",
       "// Listen for the removal of the full notebook cells\n",
       "var notebookContainer = gd.closest('#notebook-container');\n",
       "if (notebookContainer) {{\n",
       "    x.observe(notebookContainer, {childList: true});\n",
       "}}\n",
       "\n",
       "// Listen for the clearing of the current output cell\n",
       "var outputEl = gd.closest('.output');\n",
       "if (outputEl) {{\n",
       "    x.observe(outputEl, {childList: true});\n",
       "}}\n",
       "\n",
       "                        })                };                });            </script>        </div>"
      ]
     },
     "metadata": {},
     "output_type": "display_data"
    }
   ],
   "source": [
    "fig = water_ph_plot(time_list, ph_level, water)\n",
    "fig.show()"
   ]
  },
  {
   "cell_type": "markdown",
   "id": "925a4bee",
   "metadata": {},
   "source": [
    "## pH information"
   ]
  },
  {
   "cell_type": "code",
   "execution_count": 51,
   "id": "fc3e8b31",
   "metadata": {},
   "outputs": [],
   "source": [
    "def ph_info(water_dict):\n",
    "    time_list = []\n",
    "    ph_list = [7 for i in range(24)]\n",
    "    water_list = [0 for i in range(24)]\n",
    "    \n",
    "    time = min(water_dict.keys())\n",
    "    time = datetime(100, 1, 1, time.hour, time.minute, time.second)\n",
    "    time -= timedelta(hours=1)\n",
    "    time = time.time()\n",
    "    \n",
    "    for i in range(24):\n",
    "        time_list.append(time)\n",
    "        last_time = time\n",
    "        time = datetime(100, 1, 1, time.hour, time.minute, time.second)\n",
    "        time += timedelta(hours=1)\n",
    "        time = time.time()\n",
    "        \n",
    "        ph_list = ph_list[:i] + [j-0.25 for j in ph_list[i:]]\n",
    "        \n",
    "        for key in water_dict.keys():\n",
    "            if last_time<=key<time:\n",
    "                last_time = key\n",
    "                time_list[i] = key\n",
    "                water_list[i] = water_dict[key]\n",
    "                ph_list[i:] = [7 for k in range(len(ph_list[i:]))]\n",
    "        \n",
    "    return time_list, ph_list, water_list"
   ]
  },
  {
   "cell_type": "code",
   "execution_count": null,
   "id": "ba87349f",
   "metadata": {},
   "outputs": [],
   "source": [
    "water_dict ={\n",
    "    dt.time(12,0):3,\n",
    "    dt.time(9,11):2,\n",
    "    dt.time(8,0):1\n",
    "}\n",
    "\n",
    "urine"
   ]
  },
  {
   "cell_type": "code",
   "execution_count": 53,
   "id": "de5800de",
   "metadata": {},
   "outputs": [
    {
     "data": {
      "text/plain": [
       "([datetime.time(7, 0),\n",
       "  datetime.time(8, 0),\n",
       "  datetime.time(9, 11),\n",
       "  datetime.time(10, 0),\n",
       "  datetime.time(11, 0),\n",
       "  datetime.time(12, 0),\n",
       "  datetime.time(13, 0),\n",
       "  datetime.time(14, 0),\n",
       "  datetime.time(15, 0),\n",
       "  datetime.time(16, 0),\n",
       "  datetime.time(17, 0),\n",
       "  datetime.time(18, 0),\n",
       "  datetime.time(19, 0),\n",
       "  datetime.time(20, 0),\n",
       "  datetime.time(21, 0),\n",
       "  datetime.time(22, 0),\n",
       "  datetime.time(23, 0),\n",
       "  datetime.time(0, 0),\n",
       "  datetime.time(1, 0),\n",
       "  datetime.time(2, 0),\n",
       "  datetime.time(3, 0),\n",
       "  datetime.time(4, 0),\n",
       "  datetime.time(5, 0),\n",
       "  datetime.time(6, 0)],\n",
       " [6.75,\n",
       "  7,\n",
       "  7,\n",
       "  6.75,\n",
       "  6.5,\n",
       "  7,\n",
       "  6.75,\n",
       "  6.5,\n",
       "  6.25,\n",
       "  6.0,\n",
       "  5.75,\n",
       "  5.5,\n",
       "  5.25,\n",
       "  5.0,\n",
       "  4.75,\n",
       "  4.5,\n",
       "  4.25,\n",
       "  4.0,\n",
       "  3.75,\n",
       "  3.5,\n",
       "  3.25,\n",
       "  3.0,\n",
       "  2.75,\n",
       "  2.5],\n",
       " [0, 1, 2, 0, 0, 3, 0, 0, 0, 0, 0, 0, 0, 0, 0, 0, 0, 0, 0, 0, 0, 0, 0, 0])"
      ]
     },
     "execution_count": 53,
     "metadata": {},
     "output_type": "execute_result"
    }
   ],
   "source": [
    "ph_info(water_dict)"
   ]
  },
  {
   "cell_type": "markdown",
   "id": "92abc3ad",
   "metadata": {},
   "source": [
    "## Urine Color based recommendation"
   ]
  },
  {
   "cell_type": "code",
   "execution_count": null,
   "id": "d3b24ac2",
   "metadata": {},
   "outputs": [],
   "source": [
    "def color_based_recommendation(urine_color):\n",
    "    if urine_color == 'Clear':\n",
    "        rec = \"Doing Great! You are well hydrated.\"\n",
    "    elif urine_color == 'Pale Yellow':\n",
    "        rec = \"Doing ok. You're probably well hydrated. Drink water as normal.\"\n",
    "    elif urine_color == 'Yellow':\n",
    "        rec = \"You're just fine. You could stand to drink a little water now, maybe a small glass of water.\"\n",
    "    elif urine_color == 'Dark Yellow':\n",
    "        rec = \"Drink about 1/2 bottle of water (250 ml) within the hour, or drink a whole bottle (500 ml) of water if you're outside and/or sweating.\"\n",
    "    elif urine_color == 'Honey':\n",
    "        rec = \"Drink about 1/2 bottle of water (250 ml) right now, or drink a whole bottle (500 ml) of water if you're outside and/or sweating.\"\n",
    "    elif urine_color == 'Brown':\n",
    "        rec = 'Drink 2 bottles of water right now (1000 ml).If your urine is darker than this and/or red, then dehydration may not be your problem.See a doctor.'\n",
    "    else:\n",
    "        rec = 'Please consult a docter.'\n",
    "        \n",
    "    return rec"
   ]
  },
  {
   "cell_type": "code",
   "execution_count": 158,
   "id": "e565c84f",
   "metadata": {},
   "outputs": [],
   "source": [
    "def urine_based_recommendation(urine_ph):\n",
    "    if 0<=urine_ph<4.5:\n",
    "        rec = \"Something is severely wrong. Your body is dangerously acidic; please see a doctor right away.\"\n",
    "    elif 4.5<=urine_ph<6:\n",
    "        rec = \"This is a danger zone; your body is too acidic; drastic dietary and lifestyle changes are advised. Please see a doctor.\"\n",
    "    elif 6<=urine_ph<6.5:\n",
    "        rec = 'Consider dietary and lifestyle changes to improve the pH of your body.'\n",
    "    elif 6.5<=urine_ph<6.7:\n",
    "        rec = \"Consider slight dietary adjustments to bring your pH back up to where it should be.\"\n",
    "    elif 6.7<=urine_ph<7.25:\n",
    "        rec = 'Congratulations! Keep up the good work by maintaining an alkalising lifestyle.'\n",
    "    elif 7.25<=urine_ph<8:\n",
    "        rec = \"WHile not uncommon, this is not healthy.\"\n",
    "    else:\n",
    "        rec = 'Something is severely wrong. Your body is dangerously alkaline; please see a doctor right away.'\n",
    "        \n",
    "    return rec"
   ]
  },
  {
   "cell_type": "markdown",
   "id": "e27b06b4",
   "metadata": {},
   "source": [
    "## pH colorbar"
   ]
  },
  {
   "cell_type": "code",
   "execution_count": 156,
   "id": "33b8eb66",
   "metadata": {},
   "outputs": [],
   "source": [
    "def ph_chart(urine_ph):\n",
    "    fig, ax = plt.subplots(figsize=(1, 6))\n",
    "    fig.suptitle('Urine pH Scale')\n",
    "\n",
    "    cmap = mpl.colors.ListedColormap(['#fe1321', '#fe531a', '#ffa400', \n",
    "                                      '#ffcc01', '#dbe000', '#6ed700', \n",
    "                                      '#00b601', '#038503', '#00a654', \n",
    "                                      '#00c1b9', '#008bca', '#014bca', \n",
    "                                      '#3421b9', '#480da7', '#3e0890'])\n",
    "\n",
    "    bounds = [i for i in range(15)]\n",
    "    norm = mpl.colors.BoundaryNorm(bounds, cmap.N)\n",
    "\n",
    "    cbar = mpl.colorbar.ColorbarBase(ax, cmap=cmap,\n",
    "                                    boundaries=bounds,\n",
    "                                    norm=norm,\n",
    "                                    ticks=bounds,\n",
    "                                    orientation='vertical')\n",
    "    \n",
    "    ax.annotate(\"Your Urine pH\", xy=(0, urine_ph), xytext=(-2, urine_ph),\n",
    "            arrowprops=dict(arrowstyle=\"->\"))\n",
    "    ax.annotate(\"Upper healthy pH limit\", xy=(0, 8), xytext=(-3, 8),\n",
    "            arrowprops=dict(arrowstyle=\"->\"), c='b')\n",
    "    ax.annotate(\"Lower healthy pH limit\", xy=(0, 4.5), xytext=(-3, 4.5),\n",
    "            arrowprops=dict(arrowstyle=\"->\"), c='r')\n",
    "\n",
    "    cbar.ax.set_yticklabels(['acidic']+[str(i) for i in range(1,14)]+['alkaline'])\n",
    "    \n",
    "    \n",
    "    return fig"
   ]
  },
  {
   "cell_type": "code",
   "execution_count": 157,
   "id": "e243832b",
   "metadata": {},
   "outputs": [
    {
     "data": {
      "image/png": "[encoded data removed]",
      "text/plain": [
       "<Figure size 72x432 with 1 Axes>"
      ]
     },
     "metadata": {
      "needs_background": "light"
     },
     "output_type": "display_data"
    }
   ],
   "source": [
    "fig = ph_chart(6.5)"
   ]
  },
  {
   "cell_type": "markdown",
   "id": "8a4306a2",
   "metadata": {},
   "source": [
    "# New functions"
   ]
  },
  {
   "cell_type": "code",
   "execution_count": 3,
   "id": "74c9602b",
   "metadata": {},
   "outputs": [],
   "source": [
    "def avg_ph(ph_list):\n",
    "    n = len(ph_list)\n",
    "    avg = sum(ph_list) / n\n",
    "    return avg"
   ]
  },
  {
   "cell_type": "code",
   "execution_count": 11,
   "id": "49f06c9f",
   "metadata": {},
   "outputs": [],
   "source": [
    "def avg_color(color_list):\n",
    "    avg = statistics.mode(color_list)\n",
    "    return avg"
   ]
  },
  {
   "cell_type": "code",
   "execution_count": 29,
   "id": "30c8bf76",
   "metadata": {},
   "outputs": [],
   "source": [
    "water_dict = {\n",
    "    dt.time(1, 15): 2,\n",
    "    dt.time(2, 0): 1,\n",
    "    dt.time(7,5): 5\n",
    "}\n",
    "\n",
    "urine_ph_dict = {\n",
    "    dt.time(0, 56): 7,\n",
    "    dt.time(23, 0): 3.5,\n",
    "    dt.time(14,5): 2.8\n",
    "}"
   ]
  },
  {
   "cell_type": "code",
   "execution_count": 30,
   "id": "721939ae",
   "metadata": {},
   "outputs": [],
   "source": [
    "def ph_info(water_dict, urine_ph_dict):\n",
    "    time_list = []\n",
    "    ph_list = []\n",
    "    water_list = []\n",
    "    time_ = dt.time(0,0)\n",
    "\n",
    "    for i in range(24):\n",
    "        time_list.append(time_)\n",
    "        time_ = datetime(100, 1, 1, time_.hour, time_.minute, time_.second)\n",
    "        time_ += timedelta(hours=1)\n",
    "        time_ = time_.time()\n",
    "    \n",
    "    time_list = time_list + list(water_dict.keys()) + list(urine_ph_dict.keys())\n",
    "    time_list = list(set(time_list))\n",
    "    time_list = sorted(time_list)\n",
    "\n",
    "    \n",
    "    ph = 7\n",
    "    \n",
    "    for key in time_list:\n",
    "        # check urine_ph_dict\n",
    "        if key in urine_ph_dict:\n",
    "            ph = urine_ph_dict[key]\n",
    "        else:\n",
    "            if 1.5<=ph<=13.5:\n",
    "                ph -= 0.25\n",
    "        # check water_dict\n",
    "        if key in water_dict.keys():\n",
    "            water = water_dict[key]\n",
    "            if ph+water<=7.25:\n",
    "                ph += water\n",
    "            else:\n",
    "                ph = 7\n",
    "        else:\n",
    "            water = 0\n",
    "        \n",
    "        ph_list.append(ph)\n",
    "        water_list.append(water)\n",
    "        \n",
    "    \n",
    "    return time_list, ph_list, water_list"
   ]
  },
  {
   "cell_type": "code",
   "execution_count": 31,
   "id": "238f3241",
   "metadata": {},
   "outputs": [],
   "source": [
    "time_list, ph_list, water_list = ph_info(water_dict, urine_ph_dict)"
   ]
  },
  {
   "cell_type": "code",
   "execution_count": 32,
   "id": "f1619522",
   "metadata": {},
   "outputs": [
    {
     "data": {
      "text/plain": [
       "28"
      ]
     },
     "execution_count": 32,
     "metadata": {},
     "output_type": "execute_result"
    }
   ],
   "source": [
    "len(time_list)"
   ]
  },
  {
   "cell_type": "code",
   "execution_count": 33,
   "id": "bf9a07b7",
   "metadata": {},
   "outputs": [
    {
     "data": {
      "text/plain": [
       "[datetime.time(0, 0),\n",
       " datetime.time(0, 56),\n",
       " datetime.time(1, 0),\n",
       " datetime.time(1, 15),\n",
       " datetime.time(2, 0),\n",
       " datetime.time(3, 0),\n",
       " datetime.time(4, 0),\n",
       " datetime.time(5, 0),\n",
       " datetime.time(6, 0),\n",
       " datetime.time(7, 0),\n",
       " datetime.time(7, 5),\n",
       " datetime.time(8, 0),\n",
       " datetime.time(9, 0),\n",
       " datetime.time(10, 0),\n",
       " datetime.time(11, 0),\n",
       " datetime.time(12, 0),\n",
       " datetime.time(13, 0),\n",
       " datetime.time(14, 0),\n",
       " datetime.time(14, 5),\n",
       " datetime.time(15, 0),\n",
       " datetime.time(16, 0),\n",
       " datetime.time(17, 0),\n",
       " datetime.time(18, 0),\n",
       " datetime.time(19, 0),\n",
       " datetime.time(20, 0),\n",
       " datetime.time(21, 0),\n",
       " datetime.time(22, 0),\n",
       " datetime.time(23, 0)]"
      ]
     },
     "execution_count": 33,
     "metadata": {},
     "output_type": "execute_result"
    }
   ],
   "source": [
    "time_list"
   ]
  },
  {
   "cell_type": "code",
   "execution_count": 34,
   "id": "6db6493c",
   "metadata": {},
   "outputs": [
    {
     "data": {
      "text/plain": [
       "[6.75,\n",
       " 7,\n",
       " 6.75,\n",
       " 7,\n",
       " 7,\n",
       " 6.75,\n",
       " 6.5,\n",
       " 6.25,\n",
       " 6.0,\n",
       " 5.75,\n",
       " 7,\n",
       " 6.75,\n",
       " 6.5,\n",
       " 6.25,\n",
       " 6.0,\n",
       " 5.75,\n",
       " 5.5,\n",
       " 5.25,\n",
       " 2.8,\n",
       " 2.55,\n",
       " 2.3,\n",
       " 2.05,\n",
       " 1.7999999999999998,\n",
       " 1.5499999999999998,\n",
       " 1.2999999999999998,\n",
       " 1.0499999999999998,\n",
       " 0.7999999999999998,\n",
       " 3.5]"
      ]
     },
     "execution_count": 34,
     "metadata": {},
     "output_type": "execute_result"
    }
   ],
   "source": [
    "ph_list"
   ]
  },
  {
   "cell_type": "code",
   "execution_count": 35,
   "id": "ab56f487",
   "metadata": {},
   "outputs": [
    {
     "data": {
      "text/plain": [
       "[0,\n",
       " 0,\n",
       " 0,\n",
       " 2,\n",
       " 1,\n",
       " 0,\n",
       " 0,\n",
       " 0,\n",
       " 0,\n",
       " 0,\n",
       " 5,\n",
       " 0,\n",
       " 0,\n",
       " 0,\n",
       " 0,\n",
       " 0,\n",
       " 0,\n",
       " 0,\n",
       " 0,\n",
       " 0,\n",
       " 0,\n",
       " 0,\n",
       " 0,\n",
       " 0,\n",
       " 0,\n",
       " 0,\n",
       " 0,\n",
       " 0]"
      ]
     },
     "execution_count": 35,
     "metadata": {},
     "output_type": "execute_result"
    }
   ],
   "source": [
    "water_list"
   ]
  },
  {
   "cell_type": "code",
   "execution_count": 47,
   "id": "ce07a229",
   "metadata": {},
   "outputs": [],
   "source": [
    "def drink_water_recommendation(time_list, ph_list, water_list):\n",
    "    rehydrate_time = []\n",
    "    for i in range(len(time_list)):\n",
    "        ph = ph_list[i]\n",
    "        time = time_list[i]\n",
    "        water = water_list[i]\n",
    "\n",
    "        if water!=0:\n",
    "            rehydrate_time = []\n",
    "            last_water = time\n",
    "            \n",
    "        if ph<=4.5 or ph>=8:\n",
    "            rehydrate_time.append(time)\n",
    "        else:\n",
    "            pass\n",
    "        \n",
    "    if rehydrate_time == []:\n",
    "        last_water = datetime(100, 1, 1, last_water.hour, last_water.minute, last_water.second)\n",
    "        last_water += timedelta(hours=3)\n",
    "        last_water = last_water.time()\n",
    "        rehydrate_time = [last_water]\n",
    "        rec_time = rehydrate_time[0].strftime('%I:%M %p')\n",
    "        rec =f\"It is advised that you drink water and rehydrate before {rec_time}.\"\n",
    "    elif rehydrate_time[0]==last_water:\n",
    "        rec_time = last_water.strftime('%I:%M %p')\n",
    "        rec = f\"You did not drink enough water the last time drank water (at {rec_time}), it is advised you drink more water immediately.\"\n",
    "    else:\n",
    "        rec_time = rehydrate_time[0].strftime('%I:%M %p')\n",
    "        rec =f\"It is advised that you drink water and rehydrate before {rec_time}.\"\n",
    "\n",
    "    return rec "
   ]
  },
  {
   "cell_type": "code",
   "execution_count": 48,
   "id": "d253bea2",
   "metadata": {},
   "outputs": [
    {
     "data": {
      "text/plain": [
       "[datetime.time(14, 5),\n",
       " datetime.time(15, 0),\n",
       " datetime.time(16, 0),\n",
       " datetime.time(17, 0),\n",
       " datetime.time(18, 0),\n",
       " datetime.time(19, 0),\n",
       " datetime.time(20, 0),\n",
       " datetime.time(21, 0),\n",
       " datetime.time(22, 0),\n",
       " datetime.time(23, 0)]"
      ]
     },
     "execution_count": 48,
     "metadata": {},
     "output_type": "execute_result"
    }
   ],
   "source": [
    "drink_water_recommendation(time_list, ph_list, water_list)"
   ]
  },
  {
   "cell_type": "code",
   "execution_count": 7,
   "id": "1fae07b3",
   "metadata": {},
   "outputs": [],
   "source": [
    "def extreme_case_based_recommendation(time_list, ph_list):\n",
    "    rec_time_list = []\n",
    "    \n",
    "    for i in range(len(time_list)):\n",
    "        time = time_list[i]\n",
    "        ph = ph_list[i]\n",
    "        \n",
    "        if ph<=4.6 or ph>=7.9:\n",
    "            rec_time_list.append(time)\n",
    "    \n",
    "    rec = []\n",
    "    for time in rec_time_list:\n",
    "        if dt.time(6,0)<=time<dt.time(8,0):\n",
    "            rec.append('early-morning')\n",
    "        elif dt.time(8,0)<=time<dt.time(10,0):\n",
    "            rec.append('mid-morning')\n",
    "        elif dt.time(10,0)<=time<dt.time(12,0):\n",
    "            rec.append('late-morning')\n",
    "        elif dt.time(12,0)<=time<dt.time(14,0):\n",
    "            rec.append('early-afternoon')\n",
    "        elif dt.time(14,0)<=time<dt.time(16,0):\n",
    "            rec.append('mid-afternoon')\n",
    "        elif dt.time(16,0)<=time<dt.time(18,0):\n",
    "            rec.append('late-afternoon')\n",
    "        elif dt.time(18,0)<=time<dt.time(21,0):\n",
    "            rec.append('evening')\n",
    "        elif dt.time(21,0)<=time<=dt.time(23,59):\n",
    "            rec.append('night')\n",
    "        elif dt.time(0,0)<=time<dt.time(3,0):\n",
    "            rec.append('late-night')\n",
    "        elif dt.time(3,0)<=time<dt.time(6,0):\n",
    "            rec.append('toward-morning')\n",
    "        else:\n",
    "            pass\n",
    "    \n",
    "    rec = list(set(rec))\n",
    "    \n",
    "    if len(rec)==0:\n",
    "        return 'Good job drinking water throughout the day!'\n",
    "    elif len(rec)==1:\n",
    "        return f\"\"\"Your urine pH dropped below healthy levels during {rec[0]}, make sure to consciously drink water during {rec[0]}.\"\"\"\n",
    "    else:\n",
    "        return f\"\"\"Your urine pH dropped below healthy levels during {\", \".join(rec[:-1]) + ' and ' + rec[-1]}, make sure to consciously drink water during {\", \".join(rec[:-1]) + ' and ' + rec[-1]}.\"\"\""
   ]
  },
  {
   "cell_type": "code",
   "execution_count": null,
   "id": "32f0755f",
   "metadata": {},
   "outputs": [],
   "source": []
  }
 ],
 "metadata": {
  "kernelspec": {
   "display_name": "Python 3.9.12 ('base')",
   "language": "python",
   "name": "python3"
  },
  "language_info": {
   "codemirror_mode": {
    "name": "ipython",
    "version": 3
   },
   "file_extension": ".py",
   "mimetype": "text/x-python",
   "name": "python",
   "nbconvert_exporter": "python",
   "pygments_lexer": "ipython3",
   "version": "3.9.12"
  },
  "vscode": {
   "interpreter": {
    "hash": "ad2bdc8ecc057115af97d19610ffacc2b4e99fae6737bb82f5d7fb13d2f2c186"
   }
  }
 },
 "nbformat": 4,
 "nbformat_minor": 5
}
